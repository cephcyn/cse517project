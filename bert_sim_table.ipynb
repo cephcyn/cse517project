{
 "cells": [
  {
   "cell_type": "code",
   "execution_count": 22,
   "metadata": {
    "collapsed": true
   },
   "outputs": [],
   "source": [
    "import pickle as pickle \n",
    "import random\n",
    "import operator\n",
    "from itertools import permutations "
   ]
  },
  {
   "cell_type": "code",
   "execution_count": 3,
   "metadata": {
    "collapsed": true
   },
   "outputs": [],
   "source": [
    "import numpy as np\n",
    "import pandas as pd"
   ]
  },
  {
   "cell_type": "code",
   "execution_count": null,
   "metadata": {
    "collapsed": true
   },
   "outputs": [],
   "source": [
    "from torch# import softmax\n",
    "from transformers import BertForNextSentencePrediction, BertTokenizer"
   ]
  },
  {
   "cell_type": "code",
   "execution_count": 6,
   "metadata": {},
   "outputs": [],
   "source": [
    "d = pd.read_csv('data/final_proj_data_preprocessed_1000sample.csv')"
   ]
  },
  {
   "cell_type": "code",
   "execution_count": null,
   "metadata": {
    "collapsed": true
   },
   "outputs": [],
   "source": [
    "model = BertForNextSentencePrediction.from_pretrained('bert-base-uncased')\n",
    "tokenizer = BertTokenizer.from_pretrained('bert-base-uncased')"
   ]
  },
  {
   "cell_type": "code",
   "execution_count": null,
   "metadata": {
    "collapsed": true
   },
   "outputs": [],
   "source": [
    "def bert_nsp(seq_A, seq_B):\n",
    "    encoded = tokenizer.encode_plus(seq_A, text_pair=seq_B, return_tensors='pt')\n",
    "    try: \n",
    "        seq_relationship_logits = model(**encoded)[0]\n",
    "    except:\n",
    "        similarity = 0\n",
    "    probs = softmax(seq_relationship_logits, dim=1)\n",
    "    similarity = probs.numpy()[0][0]\n",
    "    return similarity"
   ]
  },
  {
   "cell_type": "code",
   "execution_count": null,
   "metadata": {
    "collapsed": true
   },
   "outputs": [],
   "source": [
    "def One_prob_clustering(posts, m,n):\n",
    "    unselected_posts = posts.copy()\n",
    "    clusters = {}\n",
    "    while len(unselected_posts)! = 0:\n",
    "        select_post = random.choice(unselected_posts)\n",
    "        sim_dict = {}\n",
    "        for p in unselected_posts:\n",
    "            similarity = bert_nsp(t[select_post][0], t[p][1])\n",
    "            sim_dict[p] = similarity\n",
    "        sorted_sim_list = sorted(sim_dict.items(), key=operator.itemgetter(1),reverse=True)\n",
    "        most_similar = sorted_sim_list[range(floor(m/n))]\n",
    "        clusters[select_post] = most_similar\n",
    "        for post in most_similar:\n",
    "            unselected posts.remove(post)\n",
    "    return clusters"
   ]
  },
  {
   "cell_type": "code",
   "execution_count": null,
   "metadata": {
    "collapsed": true
   },
   "outputs": [],
   "source": [
    "def Merge_multiple_prob_clustering(p, m, posts,n):\n",
    "    similarity_table = {}\n",
    "    for i in range(n):\n",
    "        similarity_table[i] = np.zeros(n)\n",
    "    for i in range(p):\n",
    "        one_probabilistic_clustering = One_prob_clustering(posts, m, n)\n",
    "        for j in one_probabilistic_clustering.keys():\n",
    "            one_cluster =  [j] + [one_probabilistic_clustering[j]]\n",
    "            all_similar_pairs = permutations(one_cluster, 2)\n",
    "            for k in all_similar_pairs:\n",
    "                similarity_table[k[0]][k[1]] += 1\n",
    "    return similarity_table"
   ]
  },
  {
   "cell_type": "code",
   "execution_count": null,
   "metadata": {
    "collapsed": true
   },
   "outputs": [],
   "source": [
    "posts = d.id.to_list()\n",
    "n = 1000\n",
    "p =5 \n",
    "m =2"
   ]
  },
  {
   "cell_type": "code",
   "execution_count": null,
   "metadata": {
    "collapsed": true
   },
   "outputs": [],
   "source": [
    "similarity_table = Merge_multiple_prob_clustering(p, m, posts,n)"
   ]
  }
 ],
 "metadata": {
  "kernelspec": {
   "display_name": "Python [conda root]",
   "language": "python",
   "name": "conda-root-py"
  },
  "language_info": {
   "codemirror_mode": {
    "name": "ipython",
    "version": 3
   },
   "file_extension": ".py",
   "mimetype": "text/x-python",
   "name": "python",
   "nbconvert_exporter": "python",
   "pygments_lexer": "ipython3",
   "version": "3.5.3"
  },
  "varInspector": {
   "cols": {
    "lenName": 16,
    "lenType": 16,
    "lenVar": 40
   },
   "kernels_config": {
    "python": {
     "delete_cmd_postfix": "",
     "delete_cmd_prefix": "del ",
     "library": "var_list.py",
     "varRefreshCmd": "print(var_dic_list())"
    },
    "r": {
     "delete_cmd_postfix": ") ",
     "delete_cmd_prefix": "rm(",
     "library": "var_list.r",
     "varRefreshCmd": "cat(var_dic_list()) "
    }
   },
   "types_to_exclude": [
    "module",
    "function",
    "builtin_function_or_method",
    "instance",
    "_Feature"
   ],
   "window_display": false
  }
 },
 "nbformat": 4,
 "nbformat_minor": 2
}
