{
 "cells": [
  {
   "cell_type": "code",
   "execution_count": 1,
   "metadata": {
    "collapsed": true
   },
   "outputs": [],
   "source": [
    "import pandas as pd\n",
    "import numpy as np\n",
    "from itertools import combinations \n",
    "import pickle as pickle\n",
    "import random"
   ]
  },
  {
   "cell_type": "code",
   "execution_count": 2,
   "metadata": {
    "scrolled": true
   },
   "outputs": [
    {
     "name": "stderr",
     "output_type": "stream",
     "text": [
      "//anaconda/lib/python3.5/site-packages/IPython/core/interactiveshell.py:2717: DtypeWarning: Columns (2,3,4,8,11,13,15,16,17,18,19,21,22,30,38,41,42,44,47,48,50,51,74,75,87,89,94,117,119,123) have mixed types. Specify dtype option on import or set low_memory=False.\n",
      "  interactivity=interactivity, compiler=compiler, result=result)\n"
     ]
    }
   ],
   "source": [
    "d_advice = pd.read_csv('~/data/final_proj_data_preprocessed.csv')"
   ]
  },
  {
   "cell_type": "code",
   "execution_count": 25,
   "metadata": {},
   "outputs": [
    {
     "data": {
      "text/plain": [
       "(39440, 136)"
      ]
     },
     "execution_count": 25,
     "metadata": {},
     "output_type": "execute_result"
    }
   ],
   "source": [
    "d_advice.shape"
   ]
  },
  {
   "cell_type": "code",
   "execution_count": 26,
   "metadata": {
    "collapsed": true
   },
   "outputs": [],
   "source": [
    "n = d_advice.shape[0]"
   ]
  },
  {
   "cell_type": "code",
   "execution_count": null,
   "metadata": {
    "collapsed": true
   },
   "outputs": [],
   "source": [
    "sub_list = ['depression', 'relationship_advice', 'offmychest',\n",
    "'IAmA', 'needadvice', 'tifu', 'confessions','anxiety', 'confession', 'socialanxiety','socialskills','trueoffmychest']"
   ]
  },
  {
   "cell_type": "code",
   "execution_count": 28,
   "metadata": {},
   "outputs": [
    {
     "name": "stderr",
     "output_type": "stream",
     "text": [
      "//anaconda/lib/python3.5/site-packages/IPython/core/interactiveshell.py:2717: DtypeWarning: Columns (3,5,9,10,14,15,118,119,120,121,124,146,147,148,149,152,167,168,169,170,173,205,264,265,266,267,270,292,293,294,295,298,299,300,301,302,305,370,371,372,373,376,385,386,387,388,391,406,407,408,409,412,435,436,437,438,439,442,458,459,460,461,464,486,487,488,489,492,500,501,502,503,506,507,508,509,510,513,570,571,572,573,576,577,578,579,580,583,597,599,601,602,603,604,646) have mixed types. Specify dtype option on import or set low_memory=False.\n",
      "  interactivity=interactivity, compiler=compiler, result=result)\n"
     ]
    }
   ],
   "source": [
    "for sub in sub_list:\n",
    "    d_sub = pd.read_csv('expanded_%s_preprocessed.csv'%sub)\n",
    "    n = n + d_sub.shape[0]"
   ]
  },
  {
   "cell_type": "code",
   "execution_count": 29,
   "metadata": {},
   "outputs": [
    {
     "data": {
      "text/plain": [
       "226403"
      ]
     },
     "execution_count": 29,
     "metadata": {},
     "output_type": "execute_result"
    }
   ],
   "source": [
    "n"
   ]
  },
  {
   "cell_type": "code",
   "execution_count": 44,
   "metadata": {
    "collapsed": true
   },
   "outputs": [],
   "source": [
    "d = d_advice[['id', 'author', 'title', 'selftext']]"
   ]
  },
  {
   "cell_type": "code",
   "execution_count": 45,
   "metadata": {
    "collapsed": true
   },
   "outputs": [],
   "source": [
    "authors = d.groupby('author').id.count().to_frame()\n",
    "same_authors = authors[authors.id>1]\n",
    "same_authors_d = d[d.author.isin(same_authors.index)]\n",
    "text_dict = same_authors_d.groupby('author')['selftext'].apply(list).to_dict()\n",
    "\n",
    "for author, t in text_dict.items():\n",
    "    #flat_list = [item for sublist in t for item in sublist]\n",
    "    for c in combinations(t,2):\n",
    "        train = train.append({\"seq_A\":c[0], \"seq_B\":c[1], 'label':1,'author':author}, ignore_index=True)\n",
    "\n",
    "\n",
    "for row in train.iterrows(): \n",
    "    current_author = row[1]['author']\n",
    "    d_pool = d[d.author!=current_author]\n",
    "    s_text = random.choice(d_pool.selftext.to_list())\n",
    "    train = train.append({\"seq_A\":row[1]['seq_A'], \"seq_B\":s_text,\n",
    "                                      'label':0,'author':'paired_authors'}, ignore_index=True)\n"
   ]
  },
  {
   "cell_type": "code",
   "execution_count": null,
   "metadata": {
    "collapsed": true,
    "scrolled": true
   },
   "outputs": [],
   "source": [
    "for sub in sub_list:\n",
    "    d_sub = pd.read_csv('expanded_%s_preprocessed.csv'%sub)\n",
    "    d = d_sub[['id', 'author', 'title', 'selftext']]\n",
    "    \n",
    "    authors = d.groupby('author').id.count().to_frame()\n",
    "    same_authors = authors[authors.id>1]\n",
    "    same_authors_d = d[d.author.isin(same_authors.index)]\n",
    "    text_dict = same_authors_d.groupby('author')['selftext'].apply(list).to_dict()\n",
    "    \n",
    "    column_names = [\"seq_A\", \"seq_B\", \"label\",'author']\n",
    "    train_partial = pd.DataFrame(columns = column_names)\n",
    "\n",
    "    for author, t in text_dict.items():\n",
    "        #flat_list = [item for sublist in t for item in sublist]\n",
    "        for c in combinations(t,2):\n",
    "            train_partial = train_partial.append({\"seq_A\":c[0], \"seq_B\":c[1], 'label':1,'author':author}, ignore_index=True)\n",
    "\n",
    "\n",
    "    for row in train_partial.iterrows(): \n",
    "        current_author = row[1]['author']\n",
    "        d_pool = d[d.author!=current_author]\n",
    "        s_text = random.choice(d_pool.selftext.to_list())\n",
    "        train_partial = train_partial.append({\"seq_A\":row[1]['seq_A'], \"seq_B\":s_text,\n",
    "                                      'label':0,'author':'paired_authors'}, ignore_index=True)\n",
    "    \n",
    "    train = train.append(train_partial)"
   ]
  },
  {
   "cell_type": "code",
   "execution_count": 68,
   "metadata": {
    "collapsed": true,
    "scrolled": true
   },
   "outputs": [],
   "source": [
    "train.to_csv('bert_finetuning_train.pickle.csv')"
   ]
  }
 ],
 "metadata": {
  "kernelspec": {
   "display_name": "Python [conda root]",
   "language": "python",
   "name": "conda-root-py"
  },
  "language_info": {
   "codemirror_mode": {
    "name": "ipython",
    "version": 3
   },
   "file_extension": ".py",
   "mimetype": "text/x-python",
   "name": "python",
   "nbconvert_exporter": "python",
   "pygments_lexer": "ipython3",
   "version": "3.5.6"
  },
  "varInspector": {
   "cols": {
    "lenName": 16,
    "lenType": 16,
    "lenVar": 40
   },
   "kernels_config": {
    "python": {
     "delete_cmd_postfix": "",
     "delete_cmd_prefix": "del ",
     "library": "var_list.py",
     "varRefreshCmd": "print(var_dic_list())"
    },
    "r": {
     "delete_cmd_postfix": ") ",
     "delete_cmd_prefix": "rm(",
     "library": "var_list.r",
     "varRefreshCmd": "cat(var_dic_list()) "
    }
   },
   "types_to_exclude": [
    "module",
    "function",
    "builtin_function_or_method",
    "instance",
    "_Feature"
   ],
   "window_display": false
  }
 },
 "nbformat": 4,
 "nbformat_minor": 4
}
