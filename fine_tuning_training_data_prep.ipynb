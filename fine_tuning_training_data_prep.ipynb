{
 "cells": [
  {
   "cell_type": "code",
   "execution_count": 17,
   "metadata": {},
   "outputs": [],
   "source": [
    "import pandas as pd\n",
    "import numpy as np\n",
    "from itertools import combinations \n",
    "import pickle as pickle\n",
    "import random"
   ]
  },
  {
   "cell_type": "code",
   "execution_count": 3,
   "metadata": {
    "scrolled": true
   },
   "outputs": [
    {
     "name": "stderr",
     "output_type": "stream",
     "text": [
      "C:\\Users\\xyn94\\.conda\\envs\\test\\lib\\site-packages\\IPython\\core\\interactiveshell.py:3062: DtypeWarning: Columns (2,3,4,8,11,13,15,16,17,18,19,21,22,30,38,41,42,44,47,48,50,51,74,75,87,89,94,117,119,123) have mixed types.Specify dtype option on import or set low_memory=False.\n",
      "  has_raised = await self.run_ast_nodes(code_ast.body, cell_name,\n"
     ]
    }
   ],
   "source": [
    "d_all = pd.read_csv('final_proj_data_preprocessed.csv')"
   ]
  },
  {
   "cell_type": "code",
   "execution_count": 4,
   "metadata": {},
   "outputs": [],
   "source": [
    "d = d_all[['id', 'author', 'title', 'selftext']]"
   ]
  },
  {
   "cell_type": "code",
   "execution_count": 22,
   "metadata": {
    "scrolled": true
   },
   "outputs": [],
   "source": [
    "authors = d.groupby('author').id.count().to_frame()"
   ]
  },
  {
   "cell_type": "code",
   "execution_count": 23,
   "metadata": {},
   "outputs": [],
   "source": [
    "same_authors = authors[authors.id>1]"
   ]
  },
  {
   "cell_type": "code",
   "execution_count": 30,
   "metadata": {},
   "outputs": [],
   "source": [
    "same_authors_d = d[d.author.isin(same_authors.index)]"
   ]
  },
  {
   "cell_type": "code",
   "execution_count": 41,
   "metadata": {},
   "outputs": [],
   "source": [
    "title_dict = same_authors_d.groupby('author')['title'].apply(list).to_dict()\n",
    "text_dict = same_authors_d.groupby('author')['selftext'].apply(list).to_dict()"
   ]
  },
  {
   "cell_type": "code",
   "execution_count": 56,
   "metadata": {},
   "outputs": [],
   "source": [
    "ds = [title_dict, text_dict]\n",
    "same_author_dict = {}\n",
    "for k in title_dict.keys():\n",
    "    same_author_dict[k] = list(d[k] for d in ds)"
   ]
  },
  {
   "cell_type": "code",
   "execution_count": 66,
   "metadata": {
    "scrolled": false
   },
   "outputs": [],
   "source": [
    "column_names = [\"seq_A\", \"seq_B\", \"label\",'author']\n",
    "train = pd.DataFrame(columns = column_names)\n",
    "for author, t in same_author_dict.items():\n",
    "    flat_list = [item for sublist in t for item in sublist]\n",
    "    for c in combinations(flat_list,2):\n",
    "        train = train.append({\"seq_A\":c[0], \"seq_B\":c[1], 'label':1,'author':author}, ignore_index=True)\n"
   ]
  },
  {
   "cell_type": "code",
   "execution_count": 68,
   "metadata": {
    "scrolled": true
   },
   "outputs": [],
   "source": [
    "with open('bert_finetuning_train_same_author.pickle', 'wb') as handle:\n",
    "    pickle.dump(train, handle, protocol=pickle.HIGHEST_PROTOCOL)"
   ]
  },
  {
   "cell_type": "code",
   "execution_count": 23,
   "metadata": {},
   "outputs": [],
   "source": [
    "with open('bert_finetuning_train_same_author.pickle', 'rb') as handle:\n",
    "    train_1 = pickle.load(handle)"
   ]
  },
  {
   "cell_type": "code",
   "execution_count": 50,
   "metadata": {},
   "outputs": [
    {
     "data": {
      "text/html": [
       "<div>\n",
       "<style scoped>\n",
       "    .dataframe tbody tr th:only-of-type {\n",
       "        vertical-align: middle;\n",
       "    }\n",
       "\n",
       "    .dataframe tbody tr th {\n",
       "        vertical-align: top;\n",
       "    }\n",
       "\n",
       "    .dataframe thead th {\n",
       "        text-align: right;\n",
       "    }\n",
       "</style>\n",
       "<table border=\"1\" class=\"dataframe\">\n",
       "  <thead>\n",
       "    <tr style=\"text-align: right;\">\n",
       "      <th></th>\n",
       "      <th>seq_A</th>\n",
       "      <th>seq_B</th>\n",
       "      <th>label</th>\n",
       "      <th>author</th>\n",
       "    </tr>\n",
       "  </thead>\n",
       "  <tbody>\n",
       "    <tr>\n",
       "      <th>0</th>\n",
       "      <td>I want to run away.</td>\n",
       "      <td>I need emotional help and advice. Please consi...</td>\n",
       "      <td>1</td>\n",
       "      <td>--Lotus--</td>\n",
       "    </tr>\n",
       "    <tr>\n",
       "      <th>1</th>\n",
       "      <td>I want to run away.</td>\n",
       "      <td>I know it sounds ridiculous, especially from a...</td>\n",
       "      <td>1</td>\n",
       "      <td>--Lotus--</td>\n",
       "    </tr>\n",
       "    <tr>\n",
       "      <th>2</th>\n",
       "      <td>I want to run away.</td>\n",
       "      <td>This is gonna be a long one. Bear with me, and...</td>\n",
       "      <td>1</td>\n",
       "      <td>--Lotus--</td>\n",
       "    </tr>\n",
       "    <tr>\n",
       "      <th>3</th>\n",
       "      <td>I need emotional help and advice. Please consi...</td>\n",
       "      <td>I know it sounds ridiculous, especially from a...</td>\n",
       "      <td>1</td>\n",
       "      <td>--Lotus--</td>\n",
       "    </tr>\n",
       "    <tr>\n",
       "      <th>4</th>\n",
       "      <td>I need emotional help and advice. Please consi...</td>\n",
       "      <td>This is gonna be a long one. Bear with me, and...</td>\n",
       "      <td>1</td>\n",
       "      <td>--Lotus--</td>\n",
       "    </tr>\n",
       "    <tr>\n",
       "      <th>...</th>\n",
       "      <td>...</td>\n",
       "      <td>...</td>\n",
       "      <td>...</td>\n",
       "      <td>...</td>\n",
       "    </tr>\n",
       "    <tr>\n",
       "      <th>41198</th>\n",
       "      <td>Please help me.</td>\n",
       "      <td>I’m not completely sure if i should be posting...</td>\n",
       "      <td>1</td>\n",
       "      <td>zw3d</td>\n",
       "    </tr>\n",
       "    <tr>\n",
       "      <th>41199</th>\n",
       "      <td>Please help me.</td>\n",
       "      <td>So i’m currently studying for my ged test. I’m...</td>\n",
       "      <td>1</td>\n",
       "      <td>zw3d</td>\n",
       "    </tr>\n",
       "    <tr>\n",
       "      <th>41200</th>\n",
       "      <td>So i’m 18, and my cousin who is a horse traine...</td>\n",
       "      <td>I’m not completely sure if i should be posting...</td>\n",
       "      <td>1</td>\n",
       "      <td>zw3d</td>\n",
       "    </tr>\n",
       "    <tr>\n",
       "      <th>41201</th>\n",
       "      <td>So i’m 18, and my cousin who is a horse traine...</td>\n",
       "      <td>So i’m currently studying for my ged test. I’m...</td>\n",
       "      <td>1</td>\n",
       "      <td>zw3d</td>\n",
       "    </tr>\n",
       "    <tr>\n",
       "      <th>41202</th>\n",
       "      <td>I’m not completely sure if i should be posting...</td>\n",
       "      <td>So i’m currently studying for my ged test. I’m...</td>\n",
       "      <td>1</td>\n",
       "      <td>zw3d</td>\n",
       "    </tr>\n",
       "  </tbody>\n",
       "</table>\n",
       "<p>41203 rows × 4 columns</p>\n",
       "</div>"
      ],
      "text/plain": [
       "                                                   seq_A  \\\n",
       "0                                    I want to run away.   \n",
       "1                                    I want to run away.   \n",
       "2                                    I want to run away.   \n",
       "3      I need emotional help and advice. Please consi...   \n",
       "4      I need emotional help and advice. Please consi...   \n",
       "...                                                  ...   \n",
       "41198                                    Please help me.   \n",
       "41199                                    Please help me.   \n",
       "41200  So i’m 18, and my cousin who is a horse traine...   \n",
       "41201  So i’m 18, and my cousin who is a horse traine...   \n",
       "41202  I’m not completely sure if i should be posting...   \n",
       "\n",
       "                                                   seq_B label     author  \n",
       "0      I need emotional help and advice. Please consi...     1  --Lotus--  \n",
       "1      I know it sounds ridiculous, especially from a...     1  --Lotus--  \n",
       "2      This is gonna be a long one. Bear with me, and...     1  --Lotus--  \n",
       "3      I know it sounds ridiculous, especially from a...     1  --Lotus--  \n",
       "4      This is gonna be a long one. Bear with me, and...     1  --Lotus--  \n",
       "...                                                  ...   ...        ...  \n",
       "41198  I’m not completely sure if i should be posting...     1       zw3d  \n",
       "41199  So i’m currently studying for my ged test. I’m...     1       zw3d  \n",
       "41200  I’m not completely sure if i should be posting...     1       zw3d  \n",
       "41201  So i’m currently studying for my ged test. I’m...     1       zw3d  \n",
       "41202  So i’m currently studying for my ged test. I’m...     1       zw3d  \n",
       "\n",
       "[41203 rows x 4 columns]"
      ]
     },
     "execution_count": 50,
     "metadata": {},
     "output_type": "execute_result"
    }
   ],
   "source": [
    "train_1"
   ]
  },
  {
   "cell_type": "code",
   "execution_count": 52,
   "metadata": {},
   "outputs": [],
   "source": [
    "for row in train_1.iterrows(): \n",
    "    current_author = row[1]['author']\n",
    "    d_pool = d[d.author!=current_author]\n",
    "    s_title = random.choice(d_pool.title.to_list())\n",
    "    s_text = random.choice(d_pool.selftext.to_list())\n",
    "    r = random.choice([1,2])\n",
    "    if r == 1:\n",
    "        train_1 = train_1.append({\"seq_A\":row[1]['seq_A'], \"seq_B\":s_title,\n",
    "                                  'label':0,'author':'paired_authors'}, ignore_index=True)\n",
    "    else:\n",
    "        train_1 = train_1.append({\"seq_A\":row[1]['seq_A'], \"seq_B\":s_text,\n",
    "                                  'label':0,'author':'paired_authors'}, ignore_index=True)"
   ]
  },
  {
   "cell_type": "code",
   "execution_count": 53,
   "metadata": {},
   "outputs": [],
   "source": [
    "with open('bert_finetuning_train_all.pickle', 'wb') as handle:\n",
    "    pickle.dump(train_1, handle, protocol=pickle.HIGHEST_PROTOCOL)"
   ]
  },
  {
   "cell_type": "code",
   "execution_count": null,
   "metadata": {},
   "outputs": [],
   "source": []
  }
 ],
 "metadata": {
  "kernelspec": {
   "display_name": "test",
   "language": "python",
   "name": "test"
  },
  "language_info": {
   "codemirror_mode": {
    "name": "ipython",
    "version": 3
   },
   "file_extension": ".py",
   "mimetype": "text/x-python",
   "name": "python",
   "nbconvert_exporter": "python",
   "pygments_lexer": "ipython3",
   "version": "3.8.1"
  }
 },
 "nbformat": 4,
 "nbformat_minor": 4
}
