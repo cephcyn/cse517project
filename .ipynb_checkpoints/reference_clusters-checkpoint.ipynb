{
 "cells": [
  {
   "cell_type": "code",
   "execution_count": 2,
   "metadata": {},
   "outputs": [],
   "source": [
    "import gensim\n",
    "import numpy as np \n",
    "import pandas as pd\n",
    "import pickle\n",
    "import csv"
   ]
  },
  {
   "cell_type": "markdown",
   "metadata": {},
   "source": [
    "## Parsing raw reddit posts"
   ]
  },
  {
   "cell_type": "code",
   "execution_count": 24,
   "metadata": {},
   "outputs": [
    {
     "name": "stderr",
     "output_type": "stream",
     "text": [
      "[nltk_data] Downloading package wordnet to /home/cephcyn/nltk_data...\n",
      "[nltk_data]   Package wordnet is already up-to-date!\n",
      "[nltk_data] Downloading package stopwords to\n",
      "[nltk_data]     /home/cephcyn/nltk_data...\n",
      "[nltk_data]   Package stopwords is already up-to-date!\n"
     ]
    }
   ],
   "source": [
    "import csv\n",
    "import nltk\n",
    "from nltk.tokenize import word_tokenize, RegexpTokenizer\n",
    "from nltk.corpus import stopwords\n",
    "from nltk.stem import WordNetLemmatizer\n",
    "import re\n",
    "\n",
    "nltk.download('wordnet')\n",
    "lemmatizer = WordNetLemmatizer()\n",
    "# print(lemmatizer.lemmatize(\"cats\"))\n",
    "\n",
    "nltk.download('stopwords')\n",
    "stop_words = set(stopwords.words('english'))\n",
    "tokenizer = RegexpTokenizer(r'\\w+')\n",
    "\n",
    "def parse_reddit_csv(filename):\n",
    "    print(\"Reading from\", filename)\n",
    "    csv_cols = []\n",
    "    authors = {}\n",
    "    with open(filename) as csvfile:\n",
    "        reader = csv.DictReader(csvfile)\n",
    "        for row in reader:\n",
    "            # Remove numbers, punctuation\n",
    "            row['selftext'] = re.sub(r'\\d+', '', row['selftext'])\n",
    "            row['title'] = re.sub(r'\\d+', '', row['title'])\n",
    "            # Tokenize the post text (selftext) and post title\n",
    "            post_tokens = tokenizer.tokenize(row['selftext'])\n",
    "            title_tokens = tokenizer.tokenize(row['title'])\n",
    "            # Filter out stopwords\n",
    "            post_tokens = [w for w in post_tokens if not w in stop_words]\n",
    "            title_tokens = [w for w in title_tokens if not w in stop_words]\n",
    "            # Lemmatize the post text (reduce words to word stems i.e. cats->cat, liked->like)\n",
    "            post_tokens = [lemmatizer.lemmatize(w, 'n') for w in post_tokens]\n",
    "            post_tokens = [lemmatizer.lemmatize(w, 'v') for w in post_tokens]\n",
    "            title_tokens = [lemmatizer.lemmatize(w, 'n') for w in title_tokens]\n",
    "            title_tokens = [lemmatizer.lemmatize(w, 'v') for w in title_tokens]\n",
    "            csv_cols.append({'author': row['author'],\n",
    "                             'selftext': post_tokens,\n",
    "                             'title': title_tokens,\n",
    "                             'post_id': row['id']})\n",
    "            # Add author mapping\n",
    "            if row['author'] not in authors:\n",
    "                authors[row['author']] = []\n",
    "            authors[row['author']].append(row['id'])\n",
    "    return csv_cols, authors"
   ]
  },
  {
   "cell_type": "code",
   "execution_count": 25,
   "metadata": {},
   "outputs": [
    {
     "name": "stdout",
     "output_type": "stream",
     "text": [
      "Reading from data/final_proj_data_preprocessed_1000sample.csv\n"
     ]
    }
   ],
   "source": [
    "parsed, authors= parse_reddit_csv('data/final_proj_data_preprocessed_1000sample.csv')\n",
    "\n",
    "with open('sample1000_parse.pickle', 'wb') as handle:\n",
    "    pickle.dump(parsed, handle, protocol=pickle.HIGHEST_PROTOCOL)\n",
    "with open('sample1000_parse_authors.pickle', 'wb') as handle:\n",
    "    pickle.dump(authors, handle, protocol=pickle.HIGHEST_PROTOCOL)"
   ]
  },
  {
   "cell_type": "markdown",
   "metadata": {},
   "source": [
    "## Calculate post embeddings (Word2Vec)\n",
    "(using selftext only)\n",
    "\n",
    "The first (thereafter called W2VWeighted) is calculated by weighing the contribution of each word embedding by the inverse of its relative frequency to the final sentence embedding.\n",
    "\n",
    "In doing so, the contributions of the most common words are minimized.\n",
    "\n",
    "The second (thereafter called W2V-SIF) is calculated by first taking the weighed sentence embedding before removing the first principal component from it.\n",
    "\n",
    "Sanjeev Arora, Yingyu Liang, and Tengyu Ma. 2017.\\\n",
    "A simple but tough-to-beat baseline for sentence embeddings. In ICLR."
   ]
  },
  {
   "cell_type": "code",
   "execution_count": null,
   "metadata": {},
   "outputs": [],
   "source": [
    "# Load Google's pre-trained Word2Vec model.\n",
    "model = gensim.models.KeyedVectors.load_word2vec_format('model/GoogleNews-vectors-negative300.bin', binary=True)  "
   ]
  },
  {
   "cell_type": "code",
   "execution_count": null,
   "metadata": {},
   "outputs": [],
   "source": [
    "from collections import Counter\n",
    "\n",
    "sen_emb = {}\n",
    "for i in range(len(parsed)):\n",
    "    counts = Counter(parsed[i]['selftext']).items()\n",
    "    freq = pd.DataFrame(counts)\n",
    "    freq = freq.rename(columns={0: \"word\", 1: 'freq'})\n",
    "    # Weight by inverse relative frequency\n",
    "    freq['inv_rfreq'] = freq['freq'].sum()/freq['freq']\n",
    "    unknowns = []\n",
    "    emb_dict = {}\n",
    "    for w in freq['word'].to_list():\n",
    "        try:\n",
    "            emb = model[w]\n",
    "            emb_dict.update({w:emb})\n",
    "        except:\n",
    "            unknowns.append(w)\n",
    "    emb_value = pd.DataFrame(emb_dict).transpose().reset_index()\n",
    "    emb_value = emb_value.rename(columns={'index': \"word\"})\n",
    "    emb_value_list = emb_value.iloc[:, 1:301].mul(freq['inv_rfreq'], axis = 0).sum().to_list()\n",
    "    sen_emb.update({parsed[i]['post_id']:emb_value_list})       "
   ]
  },
  {
   "cell_type": "code",
   "execution_count": null,
   "metadata": {},
   "outputs": [],
   "source": [
    "with open('sample1000_embed_w2v.pickle', 'wb') as handle:\n",
    "    pickle.dump(sen_emb, handle, protocol=pickle.HIGHEST_PROTOCOL)"
   ]
  },
  {
   "cell_type": "markdown",
   "metadata": {},
   "source": [
    "## Calculate post topics (LDA)\n",
    "(using both selftext and title)\n",
    "\n",
    "A Bag of Words (BoW) corpus was obtained before a term frequency-inverse document frequency (TF-IDF) corpus was derived from it.\n",
    "\n",
    "Topic modeling was then performed on both the BoW corpus (thereafter LDA-BoW) and\n",
    "TF-IDF corpus (thereafter LDA-TFIDF) with the number of topics set to 30, in line with the number of clusters used.\n",
    "\n",
    "The document-topic mapping of each post is then used for computing cosine similarities with all other posts"
   ]
  },
  {
   "cell_type": "code",
   "execution_count": null,
   "metadata": {},
   "outputs": [],
   "source": [
    "from gensim.corpora import Dictionary\n",
    "\n",
    "# Create a dictionary representation of the documents.\n",
    "dictionary = Dictionary([parsed[i]['selftext'] for i in range(len(parsed))])\n",
    "print(dictionary)\n",
    "\n",
    "# Bag-of-words representation of the documents.\n",
    "corpus = [dictionary.doc2bow(parsed[i]['selftext']) for i in range(len(parsed))]\n",
    "# for doc in corpus:\n",
    "#     print([[dictionary[id], np.around(freq, decimals=2)] for id, freq in doc])\n",
    "\n",
    "# TF-IDF (term freq, inverse document freq) representation\n",
    "from gensim import models\n",
    "tfidf = models.TfidfModel(corpus)\n",
    "# for doc in tfidf[corpus]:\n",
    "#     print([[dictionary[id], np.around(freq, decimals=2)] for id, freq in doc])"
   ]
  },
  {
   "cell_type": "code",
   "execution_count": null,
   "metadata": {},
   "outputs": [],
   "source": [
    "from gensim.models import LdaModel\n",
    "\n",
    "def get_topics(corpus):\n",
    "    # Train LDA model, get model & topic vectors\n",
    "    # Set training parameters.\n",
    "    num_topics = 30\n",
    "    chunksize = 100\n",
    "    passes = 20\n",
    "    iterations = 400\n",
    "    eval_every = 100  # None = Don't evaluate model perplexity, takes too much time.\n",
    "\n",
    "    # Make a index to word dictionary.\n",
    "    temp = dictionary[0]  # This is only to \"load\" the dictionary.\n",
    "    id2word = dictionary.id2token\n",
    "\n",
    "    model = LdaModel(\n",
    "        corpus=corpus,\n",
    "        id2word=id2word,\n",
    "        chunksize=chunksize,\n",
    "        alpha='auto',\n",
    "        eta='auto',\n",
    "        iterations=iterations,\n",
    "        num_topics=num_topics,\n",
    "        passes=passes,\n",
    "        eval_every=eval_every\n",
    "    )\n",
    "    \n",
    "    # Get basic evaluation\n",
    "    top_topics = model.top_topics(corpus) #, num_words=20)\n",
    "\n",
    "    # Average topic coherence is the sum of topic coherences of all topics, divided by the number of topics.\n",
    "    avg_topic_coherence = sum([t[1] for t in top_topics]) / num_topics\n",
    "    print('Average topic coherence: %.4f.' % avg_topic_coherence)\n",
    "    \n",
    "    # Get topic vectors\n",
    "    all_topics = model.get_document_topics(corpus, per_word_topics=True)\n",
    "    all_topics = [(doc_topics, word_topics, word_phis) for doc_topics, word_topics, word_phis in all_topics]\n",
    "    sen_top = {}\n",
    "    for i in range(len(parsed)):\n",
    "        # These are in the same order as the documents themselves.\n",
    "        doc_topics, word_topics, phi_values = all_topics[i]\n",
    "        # Generate the topic VECTOR not just list of topics\n",
    "        doc_topic_vector = [0] * num_topics\n",
    "        for topic in doc_topics:\n",
    "            doc_topic_vector[topic[0]] = topic[1]\n",
    "        sen_top.update({parsed[i]['post_id']:doc_topic_vector})\n",
    "    \n",
    "    return model, sen_top"
   ]
  },
  {
   "cell_type": "code",
   "execution_count": null,
   "metadata": {},
   "outputs": [],
   "source": [
    "# Get bow data\n",
    "print(\"Generating topics for BOW...\")\n",
    "model_bow, sen_top_bow = get_topics(corpus)\n",
    "\n",
    "# Get tfidf data\n",
    "print(\"Generating topics for TFIDF...\")\n",
    "model_tfidf, sen_top_tfidf = get_topics(tfidf[corpus])"
   ]
  },
  {
   "cell_type": "code",
   "execution_count": null,
   "metadata": {},
   "outputs": [],
   "source": [
    "# Save bow data\n",
    "with open('sample1000_model_top_bow.pickle', 'wb') as handle:\n",
    "    pickle.dump(model_bow, handle, protocol=pickle.HIGHEST_PROTOCOL)\n",
    "with open('sample1000_embed_top_bow.pickle', 'wb') as handle:\n",
    "    pickle.dump(sen_top_bow, handle, protocol=pickle.HIGHEST_PROTOCOL)\n",
    "\n",
    "# Save tfidf data\n",
    "with open('sample1000_model_top_tfidf.pickle', 'wb') as handle:\n",
    "    pickle.dump(model_tfidf, handle, protocol=pickle.HIGHEST_PROTOCOL)\n",
    "with open('sample1000_embed_top_tfidf.pickle', 'wb') as handle:\n",
    "    pickle.dump(sen_top_tfidf, handle, protocol=pickle.HIGHEST_PROTOCOL)"
   ]
  },
  {
   "cell_type": "markdown",
   "metadata": {},
   "source": [
    "## Calculate Pairwise Cosine Similarity & Cluster"
   ]
  },
  {
   "cell_type": "code",
   "execution_count": 7,
   "metadata": {},
   "outputs": [],
   "source": [
    "import pickle\n",
    "\n",
    "with open('sample1000_embed_top_bow.pickle', 'rb') as handle:\n",
    "    sen_emb = pickle.load(handle)"
   ]
  },
  {
   "cell_type": "code",
   "execution_count": 8,
   "metadata": {},
   "outputs": [],
   "source": [
    "from sklearn.metrics.pairwise import cosine_similarity\n",
    "\n",
    "d = pd.DataFrame(sen_emb).transpose()\n",
    "sim_mat = cosine_similarity(d)"
   ]
  },
  {
   "cell_type": "code",
   "execution_count": 9,
   "metadata": {},
   "outputs": [],
   "source": [
    "post = d.index.to_list()\n",
    "post_emb = dict(zip(post, sim_mat))"
   ]
  },
  {
   "cell_type": "code",
   "execution_count": 13,
   "metadata": {},
   "outputs": [],
   "source": [
    "import random\n",
    "import numpy as np\n",
    "import pandas as pd\n",
    "\n",
    "def Similarity_clustering(similarity_dict, m, n):\n",
    "    clusters = {};\n",
    "    unselected_posts = similarity_dict.copy()\n",
    "    post_keys = list(unselected_posts.keys())\n",
    "    unselected_keys = list(unselected_posts.keys())\n",
    "    cluster_size = int(np.ceil(n / m))\n",
    "    while len(unselected_posts) != 0:\n",
    "        selected_post = random.choice(unselected_keys)\n",
    "        # labeling the selected row\n",
    "        emb_dict = dict(zip(post_keys, unselected_posts[selected_post]))\n",
    "        # only sort the unselected columns\n",
    "        sim = {k: emb_dict[k] for k in unselected_keys}\n",
    "        sim_sort = [k for k in sorted(sim.items(), key=lambda item: item[1])][::-1]\n",
    "        sim_most = sim_sort[0:cluster_size]\n",
    "        clusters[selected_post] = sim_most\n",
    "        # deleted the selected rows from the unselected\n",
    "        for p in sim_most:\n",
    "            del unselected_posts[p[0]]\n",
    "        unselected_keys = list(unselected_posts.keys())\n",
    "        cluster_size = int(np.floor(n / m))\n",
    "    return clusters"
   ]
  },
  {
   "cell_type": "code",
   "execution_count": 21,
   "metadata": {},
   "outputs": [
    {
     "name": "stdout",
     "output_type": "stream",
     "text": [
      "{'91srwq': [('91srwq', 1.0), ('dk4fsz', 0.9999873771529322), ('dinmi1', 0.9999827741866195), ('at7vl6', 0.9999827264977285), ('7sb0d3', 0.9999705934474751), ('7rmlxn', 0.99996277785444), ('8gf8br', 0.9999575510335756), ('7qbpme', 0.9999453457591536), ('bkediu', 0.9999391977417359), ('d4y131', 0.999937172175664), ('cjysbh', 0.9999163864118301), ('b69acp', 0.9999143729303526), ('9f2zv1', 0.9999115334681732), ('bw5sjh', 0.9999086624459855), ('cy7zxe', 0.9999044457568479), ('9hwiu4', 0.9998954116404717), ('b4fvo0', 0.9998917121637438), ('cppqoq', 0.9998906309290124), ('d4gwp1', 0.9998857650522374), ('cy4rc8', 0.999875801494631), ('7l8e5l', 0.9998657569104734), ('8ur1t0', 0.9998643182295665), ('bqqyiw', 0.9998524565603104), ('8nkwkg', 0.9998480403006698), ('dk4q1x', 0.9998439290953011), ('cjx0ii', 0.9998396169385332), ('dao2fm', 0.999836989878144), ('c9ibxr', 0.9998358633894534), ('bnbjiv', 0.9998168547616552), ('9akkq6', 0.999807365644723), ('85wkbf', 0.9997922341888669), ('bdxz9y', 0.9997722158208953), ('8yjjmj', 0.9997579529797509), ('dmp3rd', 0.9997566770145867), ('beeham', 0.9997492733471217), ('d182gu', 0.9997367398618464), ('8bnhwt', 0.9997295317516383), ('cumrtb', 0.9997295144010625), ('ca5943', 0.9997216760583749), ('b2m2zv', 0.9997204589766608), ('d4nyln', 0.9997201161539713), ('95rzdi', 0.9997177353136664), ('7qlequ', 0.9997098467575702), ('chooph', 0.9996941931585389), ('doohfs', 0.9996921914337793), ('d2jcw1', 0.9996734793357533), ('butpqq', 0.9996530044597889), ('cluq3w', 0.9996509557248443), ('8cmyxx', 0.9996462236805252), ('84n43b', 0.9996340754349327), ('7qyrw0', 0.999611427801732), ('7rllhr', 0.9996087140822256), ('cichas', 0.9996058466319678), ('d0p7b4', 0.9995988923923113), ('dj6cyi', 0.9995984128187977), ('bgsneo', 0.9995926392029488), ('7pf5we', 0.9995874212961288), ('czesor', 0.9995638622499773), ('bka12a', 0.9995633465090081), ('cm0tj4', 0.9995530743219372), ('7lp4wa', 0.9995520308475804), ('dgqjhx', 0.999551442176552), ('b3rzek', 0.9995330687304652), ('8es5oz', 0.9995249654431132), ('d1ns76', 0.9995133523220912), ('c7fet6', 0.9995082766545114), ('85w9re', 0.9994975071169796), ('8hoerr', 0.9994970079795209), ('dpf3a2', 0.9994948197164153), ('8418lv', 0.9994904947184389), ('9e9ist', 0.9994830683139447), ('7k214l', 0.9994746464972668), ('ckajnl', 0.9994715407158499), ('dfwde8', 0.9994693770651232), ('9hs2ol', 0.9994494025569236), ('9dzn72', 0.9994481179479989), ('asat9m', 0.9994433463668506), ('b0oi7n', 0.9994426303736046), ('7v5val', 0.9994421721830613), ('atje2a', 0.9994371066869878), ('cyskta', 0.9994321070943152), ('8rptaw', 0.9993995517768371), ('dggejh', 0.9993973829603647), ('clsh88', 0.9993932314400807), ('7rh08e', 0.9993854071933329), ('84t5qb', 0.9993848143264001), ('dbtrja', 0.9993829939811344), ('97x9b2', 0.9993786297625815), ('9bkiw9', 0.9993731706940744), ('8dy1qw', 0.999364814778786), ('b19xfe', 0.9993606765708775), ('8v15ze', 0.9993591704074063), ('7jo78z', 0.9993577849770808), ('8b18h9', 0.9993493934974961), ('crrans', 0.9993346468608566), ('ddm7jp', 0.9993316860473364), ('7x627h', 0.9993312399268344), ('bn6hs9', 0.99932741248562), ('9h5csu', 0.9993247680675026), ('b508ab', 0.9993245419425476), ('947sw6', 0.9993243370978092), ('cc9t51', 0.9993220710046594), ('d4js7c', 0.9993210763748623), ('7z7jqc', 0.9993209416400669), ('dc4rur', 0.99932058874225), ('9a3aik', 0.9993174116707885), ('bdq8tp', 0.9993170852113029), ('c54lnv', 0.9993087073870175), ('9hvn0f', 0.9993008621794724), ('8hjzrc', 0.9992954418557775), ('asmqr2', 0.9992950692066), ('buevzw', 0.9992945962381806), ('b7w4ug', 0.9992930644422752), ('7mcl3b', 0.9992848832096992), ('aym29q', 0.9992808442265146), ('8xekkb', 0.9992786328661097), ('cusq05', 0.9992745579821014), ('9f4g7f', 0.9992690293309778), ('dkr5zg', 0.9992669160727344), ('c9awxn', 0.9992516752702546), ('cl9n93', 0.9992480237916117), ('8ae4ec', 0.9992422569392369), ('8482o0', 0.9992422515622599), ('90zsvk', 0.9992416165381355), ('8wjlax', 0.9992334611101813), ('bc8f14', 0.9992304193622927), ('83l4xl', 0.9992258900747228), ('cuz846', 0.9992240597196014), ('8dxdak', 0.9992209458869925), ('9ijlmj', 0.9992208250792812), ('9coy3r', 0.9992161105975019), ('c35jtl', 0.9992120650864659), ('birabl', 0.9992118847452716), ('8knoo3', 0.9992105902051426), ('d8qs5g', 0.9992102776242092), ('c0uumi', 0.9992072159693285), ('8vv6up', 0.9992058844633324), ('8ng7st', 0.9991990987486283), ('c9ac0j', 0.9991953336705366), ('9gdh8m', 0.9991930088083565), ('7obp2v', 0.9991922824496067), ('7l0149', 0.9991916307971367), ('bb8dju', 0.9991832580625235), ('bkc131', 0.9991806325634416), ('dj0c9w', 0.9991787582924035), ('awckrd', 0.9991777372490837), ('9k1gic', 0.9991766580055765), ('87r5d8', 0.9991756582236998), ('81049i', 0.9991642881103243), ('blrlaf', 0.999161598302605), ('88mxd9', 0.9991585808253087), ('7wrk7h', 0.9991579676852739), ('c6ouz8', 0.9991549143955181), ('c17x10', 0.9991509610349034), ('at2bgp', 0.9991424075141673), ('8fsbz5', 0.9991390541070613), ('9bxs0q', 0.9991387480943618), ('97yxpi', 0.9991369947160909), ('dffr62', 0.9991366170967402), ('846526', 0.9991340866513628), ('90fu8r', 0.9991302146129007), ('96rqix', 0.9991240009494342), ('9acj41', 0.999119183876423), ('9et5bi', 0.9991184421492182), ('dmko8p', 0.9991161943150259), ('9158ft', 0.9991108394117546), ('b05b7i', 0.9991106506858543)], 'dna7r0': [('dna7r0', 0.9999999999999999), ('8vjo2q', 0.9999134467485384), ('8x0ysy', 0.9998345493598644), ('7uvsp6', 0.9997706836346832), ('dnq1n4', 0.9997160548761199), ('bo5mjy', 0.9996991131453926), ('8agzop', 0.9996739259603877), ('atbj61', 0.9996698711827261), ('7lxa3s', 0.9996683657647947), ('bth2ss', 0.9996642870715103), ('cahykp', 0.9996069282724533), ('7n2ch2', 0.9996058988995649), ('836jum', 0.999589615675973), ('8bt5fq', 0.999589545397929), ('b9tcvk', 0.9995307826488985), ('88n3j8', 0.9994768400576213), ('bqxj09', 0.9994708700739224), ('7ndwj5', 0.9994632331216556), ('cdk58c', 0.999441131703529), ('ck84w1', 0.9994354832959782), ('ccy29b', 0.9993812098103737), ('8brf15', 0.9993770761776409), ('bu7zan', 0.9993639686447596), ('b7uw8q', 0.9993529281355978), ('btnsti', 0.9993512356684968), ('7tic5b', 0.999343905579857), ('b6sf0b', 0.9993151055708734), ('c6pvco', 0.9993014385800667), ('7orgl5', 0.9992880871173146), ('ciw5ui', 0.9992801992200069), ('bwjzbz', 0.9992799988924956), ('dalaic', 0.9992714790708448), ('86to44', 0.9992661182646418), ('dndqu5', 0.999262935216216), ('8o0hje', 0.999262629081907), ('dd2akm', 0.999255962357591), ('cgwx80', 0.9992354999194771), ('7u7ka0', 0.9992253659401316), ('7o9535', 0.9992201293724857), ('cle00a', 0.9992145255936113), ('cp8h2f', 0.9991866938885302), ('bi3zlg', 0.999171824393308), ('8v1yrn', 0.9991692862382907), ('c7katx', 0.9991610741631926), ('9atsa6', 0.9991373702600244), ('ax65hz', 0.9991334479308669), ('81c1ve', 0.9991268494604104), ('bxe4s9', 0.9991156367107692), ('bmqcop', 0.9991141524734778), ('ayzpvf', 0.999103048089657), ('7oyxfw', 0.9991029957197423), ('8f09nq', 0.9990834702942701), ('8clfut', 0.9990804074534646), ('7qwzco', 0.9990783087279997), ('ayndo1', 0.9990656230738865), ('90nf8f', 0.9990630472937743), ('7ol9zn', 0.9990605768245739), ('bh4gge', 0.9990547433814334), ('c8j77n', 0.9990457422485004), ('9j3d5e', 0.999040619705391), ('811d4f', 0.9990338497535703), ('8iwm2x', 0.9990297328535471), ('cvjfbw', 0.9990276506960438), ('c7fipn', 0.998986704001446), ('8mz9o1', 0.9989863565783837), ('98zsbd', 0.9989846709033505), ('cgwgx6', 0.9989830792056869), ('7jplwv', 0.998973706389011), ('bvg8cx', 0.9989675733328742), ('crcadk', 0.9989589992618697), ('ch7z2r', 0.9989280070643413), ('btc8oa', 0.9989077739712949), ('b5u3j3', 0.9988915383759286), ('9czcr2', 0.9988876146347877), ('9jvywb', 0.9988678365889049), ('dent2i', 0.9988427845447148), ('7upzvn', 0.9988121863400347), ('7w4alb', 0.9987922386003698), ('bryjrp', 0.9987888898302135), ('bb0oli', 0.998773966834599), ('82jhsz', 0.9987729348483425), ('cp9pu0', 0.9987685199168655), ('d0b6qb', 0.9987492583547029), ('c071le', 0.9987239613927394), ('digsu0', 0.9987221563711979), ('8oxig1', 0.9986859292605282), ('au99kg', 0.9986562180256162), ('9fz148', 0.9986537424012649), ('c8rtzl', 0.9985859036151176), ('7kutl0', 0.9985775660610502), ('bqedtr', 0.9985443457028862), ('deay8i', 0.9985370508842023), ('c3ur6a', 0.9985058340073476), ('9g725v', 0.9984980987833834), ('8eu8qa', 0.998488129380406), ('96rlu8', 0.9984762608589319), ('9g5iuc', 0.9984634071911963), ('8cix95', 0.9984633482225127), ('cg9umf', 0.9984632169764462), ('c7y5ai', 0.9984627956253375), ('awrorr', 0.9984539877779929), ('7rn3bc', 0.9984402732750283), ('d90m5n', 0.9984370968060445), ('bkdatg', 0.998431406393222), ('91fv1u', 0.9984156021211777), ('85u56v', 0.9984106769136454), ('cxxrpp', 0.9983916294994106), ('bf8824', 0.9983874580929429), ('8v1s4h', 0.9983707029186336), ('cjtisy', 0.9983672331160831), ('cutcr2', 0.9983655799353498), ('8t41t9', 0.9983615400401669), ('7wlr02', 0.9983517829455856), ('cyj6yc', 0.9983460842534283), ('99inoa', 0.9983408545663811), ('cnyr2m', 0.9983391657841554), ('bqysob', 0.998337778959292), ('7u4di3', 0.998332710483367), ('dolrre', 0.9983286855137081), ('b2of3p', 0.9983281430960897), ('7war0f', 0.998322933148444), ('arb35w', 0.9982753815439862), ('8eold0', 0.9982469608785373), ('c59kxq', 0.9982405238507144), ('ar4h16', 0.9982378266074522), ('btvxz9', 0.9982204967291838), ('c9970e', 0.9981682011788422), ('d4wrd2', 0.9981640005032922), ('8prekb', 0.9981622547449883), ('7qtx62', 0.9981272892765346), ('9etltt', 0.9981123896968013), ('csvfuo', 0.998104899765158), ('88obky', 0.998097882602752), ('bagu0r', 0.9980846807950016), ('ds8vvp', 0.9980437511394614), ('biawsu', 0.9980376357946541), ('7uetyc', 0.9980345016113218), ('8cre77', 0.9980220088624754), ('dkwkje', 0.9980127070727567), ('cu301w', 0.9979689151133662), ('7kwzdx', 0.9979503780643562), ('8ic065', 0.9979018205431075), ('7vbeq5', 0.9978743193211576), ('85sa7a', 0.9978681990837295), ('bvgt2d', 0.9978538648894841), ('d9qhd7', 0.997852990340551), ('89wbxc', 0.9978220658314826), ('8artjk', 0.9977853437612041), ('bpuvp8', 0.9977518427226159), ('dhkxv4', 0.9977355786466946), ('b7q59g', 0.9977000748895852), ('7qz2gm', 0.9976815086458649), ('7ujvr2', 0.9976718734613983), ('7zr5z7', 0.9976618661519495), ('7mz9e8', 0.9976487240596305), ('czryok', 0.9976337810761429), ('9i2uey', 0.9975944416178367), ('996jhc', 0.997569425302508), ('cbowh3', 0.997543087317778), ('azl7y7', 0.997500547957186), ('da3phi', 0.997465453421551), ('c5q62o', 0.9974467778062085), ('bi4zru', 0.9974264240796861), ('cyqovn', 0.9974257533258188), ('7k0sbi', 0.9974233364943239), ('ccpye2', 0.9974041503013719)], '94dsy6': [('94dsy6', 1.0), ('d50wn0', 0.9983425682911213), ('8c7ifz', 0.9981724829289008), ('chaeno', 0.9978169341091461), ('7rc9in', 0.9975569127135794), ('c3kr9n', 0.997495782524767), ('bdzdwj', 0.996930449146207), ('9jzgny', 0.9968651653007512), ('cu52n9', 0.99679716019587), ('c8o9rc', 0.9967867597176809), ('dfxsve', 0.9966875425119455), ('9h20wv', 0.996632621831527), ('cldde8', 0.9964793617777141), ('8t4rcn', 0.9963694918005125), ('dplxqx', 0.9963477887007234), ('ddk9hf', 0.9963185836380092), ('bkyxjr', 0.9963174444476539), ('csmydx', 0.9961739968767398), ('bdh8qr', 0.9959792362127473), ('bqnzjo', 0.9959492368898258), ('clha9o', 0.9959222362639909), ('825paq', 0.9958826893152501), ('cohi1g', 0.9958600141507954), ('7uz51y', 0.9958363100425759), ('cy4nvx', 0.9957791480223405), ('db893q', 0.9957767019544267), ('bf6egi', 0.9957660795733221), ('7mcnlx', 0.9957309999572483), ('9e0t8x', 0.995689465713042), ('8zwb4n', 0.9956807956418096), ('czpywj', 0.9956295750208602), ('bsusx0', 0.9956283869570778), ('80gx6a', 0.9955906354920817), ('dlqlsr', 0.9955217938426426), ('cy86ib', 0.9954832491105954), ('c83p0q', 0.9954330902923778), ('c0zg62', 0.995391565847304), ('d56bae', 0.9953827400511156), ('djk9d8', 0.995378675152486), ('83hsfm', 0.9953756912353441), ('7nchx1', 0.9953404547099546), ('awxlde', 0.995326398822434), ('cqy487', 0.995278626276691), ('c1tzw7', 0.9952582632030784), ('7vtibe', 0.9952523102789654), ('bl8f22', 0.995180384672899), ('d0p7pq', 0.9951008349902882), ('d3jn26', 0.9950333857379428), ('7vlyvb', 0.9950265098182093), ('8ar2pn', 0.9950158451419636), ('dlvwez', 0.9949982834349307), ('dr8vwx', 0.9949931224799529), ('bcd22c', 0.9949667857103461), ('87g6tw', 0.9949557741610834), ('8gmb9p', 0.9948450344528195), ('94huyk', 0.9948193679298869), ('cf5vch', 0.9947574988127007), ('atnl2h', 0.9947129553299567), ('c95ft7', 0.9946933582614801), ('delkim', 0.9946614042095774), ('bhqvz3', 0.9946209981713158), ('8qd163', 0.9945624517419142), ('bjmmu9', 0.9945355650942922), ('dfy7fa', 0.994489922866793), ('8r2swb', 0.9944868094361398), ('82kyon', 0.9944544945298421), ('7tg9uy', 0.9944186400315849), ('bw7vs9', 0.9943826536419427), ('9htuys', 0.9943762214683151), ('c14oug', 0.9943754551717353), ('d9jxqq', 0.9943741151822236), ('8l6g07', 0.9943599280769321), ('b25zvf', 0.9943426642742529), ('8kelo0', 0.9943326285937177), ('7thpqu', 0.9943152732670414), ('cz99le', 0.9942298670959776), ('8kukhx', 0.9942119913811674), ('8de0me', 0.994193166168118), ('8xuc17', 0.9941448315418716), ('7jt55n', 0.9941329866016175), ('dczv5v', 0.9941082834700078), ('8vdgml', 0.994005753468595), ('829wgr', 0.9939923940221577), ('b4m12r', 0.9939290349348847), ('biu2a5', 0.9939247467752418), ('ba2nak', 0.9939232312776737), ('bv9trd', 0.9938985873895659), ('arv0fd', 0.9938766464631796), ('df51f0', 0.9938752412760563), ('7rmwyx', 0.9938576608449748), ('9hu3ud', 0.9938289905349524), ('doe5ez', 0.9938091544240891), ('80rx1p', 0.9937581183214672), ('bpr24q', 0.9937469423045759), ('d7ycfv', 0.9937285226878079), ('8bcalz', 0.9937182440867569), ('az6scz', 0.993705365189462), ('7ppsmh', 0.9936469903204812), ('clsaq5', 0.9935811392277171), ('bj0xna', 0.9935526127129114), ('87h0jg', 0.993549374258327), ('7lx887', 0.993536318458085), ('cjtrot', 0.9935168027454174), ('8tfg1k', 0.9935051779908096), ('b3m0z9', 0.9934837621435701), ('7o040y', 0.9934787711719707), ('b4al7f', 0.9934060714264158), ('cgytmd', 0.993395145596725), ('9and9c', 0.9933232218453818), ('b76na5', 0.9932899672942367), ('b2flkw', 0.9932212471340076), ('b1ktxd', 0.9931877925418988), ('d68pal', 0.9931704522579117), ('axqsm6', 0.9931555545187838), ('9fqom2', 0.9931542954612952), ('7pnmsd', 0.9931528770601336), ('c0usiz', 0.9931521092206166), ('8c03cd', 0.9931006975806203), ('da9nsu', 0.9930862103844207), ('bg41kv', 0.9930455823151569), ('90pp5v', 0.9930330519251894), ('csmlvs', 0.9929866075325569), ('8iwm64', 0.9929689798405625), ('7ns8gb', 0.9929216877540189), ('bn3fh7', 0.9929093885121753), ('7t1107', 0.9928866586555333), ('85d9bt', 0.9928865574258856), ('bzjx1m', 0.9928536030098393), ('7y7ay8', 0.9928284698041397), ('cl2jzl', 0.992781369479766), ('87zrli', 0.9927428584458721), ('c4bdob', 0.9927399381537696), ('ctjmn6', 0.992723741211123), ('boll8x', 0.9927185514293192), ('7wy6wv', 0.9927055380413545), ('cefjgg', 0.9926563204443848), ('7qoczl', 0.9926175279625651), ('ckwzif', 0.9926128428764973), ('bk942e', 0.9926079867491104), ('bt4j2h', 0.9926025158498931), ('913dao', 0.992539580451479), ('d28zc8', 0.9925291473216089), ('cw6w5o', 0.9925287127295463), ('8phi3b', 0.9925187698841395), ('9gvhrh', 0.992514793452872), ('8z49cd', 0.9924983684143922), ('bp5f51', 0.9924889648382453), ('d1ir42', 0.9924463980078502), ('99532q', 0.9924093276291085), ('9k1a15', 0.9923723015099801), ('cbd4x8', 0.9923503472130705), ('cfkkw0', 0.9923300843318948), ('c72veh', 0.9923254164267344), ('b0yhhx', 0.9922909876478622), ('7vtxly', 0.9922331212819369), ('cre0jf', 0.9922168611888862), ('bqwccn', 0.9922036838704039), ('c6n1o0', 0.9921804337730528), ('98j1y5', 0.9921692985223961), ('dmw5m3', 0.9921646873170138), ('bwp6d3', 0.9920660555327341), ('9fjm3v', 0.9920431896346513), ('dlyv3k', 0.9920279513989363), ('7o9kxf', 0.9919990342542176), ('cqrdbi', 0.9919841097129491), ('bj04on', 0.9919698312459158)], '8qd4wl': [('8qd4wl', 1.0), ('b2przb', 0.9998649666318165), ('b0icdy', 0.999848240759757), ('8zji85', 0.9998394102622024), ('7y8mdg', 0.9998307819136322), ('aws4he', 0.9998040827781355), ('cq4y03', 0.99977861609004), ('7joftt', 0.9997653830971526), ('93y0e0', 0.9997564365710017), ('cphg40', 0.9997519541744808), ('dht6r8', 0.9997242214653858), ('88srg3', 0.9997195026899692), ('9hkkup', 0.9997046474514377), ('bda0db', 0.9996956576662798), ('c32fq4', 0.9996799561950147), ('cd694f', 0.999657959000086), ('cfvrmi', 0.9996547094868162), ('94y7yz', 0.9996472798518257), ('axceid', 0.999640505564508), ('8cq1m1', 0.9996371948620857), ('b4s1xv', 0.999598010112951), ('8dei7n', 0.9995875930674137), ('7sy3cl', 0.9995842838095302), ('7k3dho', 0.9995842808783387), ('d98ib1', 0.9995681769051883), ('bh5zis', 0.9995603431949894), ('7q7re0', 0.9995590584694184), ('asi2zg', 0.9995581765596089), ('c9r1mg', 0.999544675581688), ('920llo', 0.999530566487024), ('crd82k', 0.9995274521825006), ('dr8tv1', 0.9994842782947796), ('bkcofk', 0.9994815155570778), ('94h0lh', 0.999449557042538), ('cqjrlz', 0.9994433294418444), ('cjmvwr', 0.9994386451728278), ('b92m2b', 0.9994059930838937), ('cji6bn', 0.9994043284343671), ('cw1usc', 0.9993905372602435), ('9al8b5', 0.9993820550578104), ('8lj0cg', 0.9993672540294379), ('7vukx5', 0.999363937139976), ('bdu6vh', 0.9993472267429132), ('dkui6b', 0.9993257175174761), ('7qx92o', 0.999324593460462), ('9j9f3q', 0.9993122392857668), ('8kn01a', 0.9993052616604321), ('d0jlhr', 0.9992661725647902), ('ck5cvs', 0.9992628608851273), ('7wsvwd', 0.9992550312558613), ('db3xfc', 0.9992542897525369), ('7p11ga', 0.9992483947673649), ('7rbe7i', 0.9992344180718413), ('d1z70c', 0.9992274868437787), ('cjdzem', 0.9992218475758081), ('9hhlg4', 0.9992200963729302), ('7zln17', 0.9992196596866004), ('cw87ch', 0.9992113487412082), ('cl2cen', 0.9991863902440025), ('der5kb', 0.9991862350052062), ('7rsbz7', 0.9991526423761241), ('dssqyx', 0.9991519233932018), ('dospz8', 0.9991496207472804), ('di7lew', 0.9991445836416697), ('de5c52', 0.999120564179535), ('7vd3yj', 0.9991195248391719), ('c9vd40', 0.9991140696846856), ('dd09sh', 0.9990965756270872), ('bb47a4', 0.9990884806924308), ('7k4vi5', 0.999059119691642), ('9bhwgo', 0.9990583554419183), ('7t8gqk', 0.9990426815406144), ('7lvqub', 0.9990256722518147), ('aspniz', 0.9990182288126702), ('7mgc0p', 0.9990181370232619), ('b9p5zg', 0.999017850836354), ('chujg0', 0.9990007112657932), ('9ibc09', 0.9989621571660418), ('98wmkq', 0.9989401591605296), ('crij3g', 0.9989356198215824), ('9fve7a', 0.9989218809199434), ('8u5vn5', 0.9989202925479506), ('dfg8v5', 0.9988917082373749), ('dk499n', 0.9988915212416698), ('9b6hss', 0.9988852338307905), ('8tamec', 0.9988848549691233), ('9idsst', 0.9988725372842504), ('8dgngr', 0.9988687725339879), ('7xd0vf', 0.9988490982765224), ('cdawhl', 0.9988285180466956), ('8cirus', 0.9988262980810584), ('biprco', 0.9988097868411556), ('dk1d7n', 0.9988051366795012), ('bj7jfj', 0.9987944412966012), ('aurdq3', 0.9987835209958272), ('az58dz', 0.9987460237931473), ('7ryg7e', 0.9987438974714619), ('7wrm09', 0.9987259748068922), ('856038', 0.998689350831603), ('88jk4u', 0.9986841876171676), ('9jsqnf', 0.9986752592366561), ('92q10x', 0.9986702185352082), ('8zfxpe', 0.998654053399689), ('bkawgp', 0.9986380885483106), ('ba0ue1', 0.9986373532353744), ('bsgxhp', 0.9986230522376232), ('cxkte4', 0.9986136968877414), ('czpj9h', 0.9985943452218983), ('bgc0fy', 0.9985920296075795), ('bzvd44', 0.9985274256868991), ('dbtf63', 0.9985230856708657), ('d88uzq', 0.99851669986497), ('curv3t', 0.9985163101005786), ('8e5h87', 0.9985162169395664), ('c28qrb', 0.998495880956547), ('835onz', 0.9984598375171382), ('85cdnn', 0.9984523913749519), ('btelqd', 0.9984470296004742), ('7ny1x1', 0.9984411224900358), ('aupgs0', 0.998437591917428), ('98tvq3', 0.998430456451521), ('98oqfd', 0.9984047045177243), ('7lq9wv', 0.9983864341639779), ('b0e53g', 0.9983766750877692), ('8ovy3r', 0.9983379695188743), ('c4sf1y', 0.9983347374517041), ('danrz6', 0.9983151650882082), ('bc9lz3', 0.9983001481731528), ('cczx1v', 0.9982770511920549), ('cgbv0n', 0.9982652456845161), ('btqmlb', 0.9982569327796761), ('ar4ddv', 0.9982190481982168), ('cmnu2b', 0.9981877716062704), ('c4pdil', 0.9981828057159702), ('chcyro', 0.9981587570828844), ('b7ie4l', 0.9981448005062116), ('bapp1e', 0.9981366592569862), ('8tqans', 0.9981281311179271), ('8978mz', 0.9980960322487312), ('9cs6bu', 0.9980946181758257), ('7njibw', 0.9980627125350976), ('bp6ll8', 0.9980230523338672), ('7tj6sj', 0.9979928655812073), ('cxp5lj', 0.9979573427530182), ('bmhet7', 0.9979550816314945), ('8hmq2u', 0.9979502391416486), ('8ri957', 0.9978822018095643), ('7qf2z4', 0.9978549854383929), ('8bwor7', 0.9978455784029436), ('8fbr2o', 0.997844956003414), ('bm5z4r', 0.9978356139189758), ('8sig1h', 0.9978292698834486), ('9hooas', 0.9977739076874134), ('dj71wn', 0.9977739060424329), ('8qqxri', 0.9977650999497129), ('7lm7xl', 0.9977565443780366), ('8dckix', 0.9977488616073016), ('d6i7b0', 0.9977406384310965), ('c80mcc', 0.9977353386901954), ('84rz1z', 0.9977288216751965), ('bm9q4k', 0.9976924146296153), ('9h4dwk', 0.9976915294280027), ('d6r1ax', 0.9976899486863878), ('at46c9', 0.9976720177287007), ('dbus0h', 0.9976521616249664), ('7s845f', 0.9976509132108713)], 'cygcbi': [('cygcbi', 0.9999999999999999), ('9jn0gd', 0.9987184764516089), ('8vpr9w', 0.9984903439731351), ('dqiinb', 0.9983693621554506), ('bhu0z6', 0.997585996478835), ('9c2pzh', 0.9970502436278527), ('bp2vc5', 0.9961558225859679), ('8bu1zw', 0.9960743512669551), ('cdngki', 0.996004969457529), ('cc9iij', 0.9959846142732791), ('90vyrb', 0.9956053397169661), ('81b2x6', 0.9952729551783107), ('bkq2j7', 0.9952715732228977), ('8ljqto', 0.9952625349886499), ('9ff34f', 0.9952297466615928), ('d7ssx2', 0.9951764080481832), ('7ruiq5', 0.9951640796763594), ('834pm3', 0.9951329781710018), ('bts9fb', 0.995086732511505), ('8bj2su', 0.9950740752395129), ('atg0xp', 0.9950417594894181), ('8teorv', 0.9950184366817949), ('9h6oz9', 0.9949735986715267), ('8sq2z1', 0.9949066773720425), ('7nclnu', 0.9949063774661661), ('85j5w3', 0.9948946517779571), ('c6uasa', 0.9948481658565927), ('97sqhr', 0.9948353228344162), ('96qops', 0.994792754707696), ('7mio5a', 0.9947324025051566), ('9id12l', 0.9946776012174446), ('bwladb', 0.9946712710927091), ('8awc7v', 0.9946186974821508), ('8lghij', 0.9945775919442886), ('bv0769', 0.9945770643378221), ('7lll4f', 0.9945160003171559), ('7zlwe1', 0.9944480977215525), ('9b174z', 0.9943382402320157), ('90r17a', 0.9943045396858309), ('7zxaut', 0.9942776399866401), ('9dniam', 0.994258217971751), ('aw475u', 0.9942187148200523), ('bdsb98', 0.9942171133077744), ('7pldvh', 0.9941983976669095), ('9247zb', 0.9941580157678555), ('8wzzuk', 0.9941463007870271), ('7pdu1e', 0.9941261246898473), ('8e6xu0', 0.9941118221717428), ('9byqxk', 0.9939883033704653), ('ckxskr', 0.993983577322467), ('7mdof0', 0.993936941990209), ('8znuat', 0.9939186587583514), ('ck79qe', 0.9938687971239403), ('au9opt', 0.9938568154286461), ('buz19a', 0.9938401913793344), ('b2lpfl', 0.9938226536492495), ('8em7tv', 0.993788010729365), ('d0s4yn', 0.9937839088146839), ('91lmrx', 0.9936741204242503), ('97vf2h', 0.993643326387153), ('97ugwh', 0.9935947871238817), ('7l83ji', 0.9935494942229051), ('del70k', 0.9934781477912006), ('c7qv4z', 0.9934692141249527), ('bjlo0a', 0.9934519755922724), ('956ioh', 0.9934121633479857), ('d2m9k2', 0.9933878116440056), ('8ectpf', 0.9933660534792773), ('djkmqx', 0.9933022841910906), ('djg8r0', 0.9931294856008165), ('8798zh', 0.9931152284846377), ('96z2rv', 0.9930810749629241), ('cjfmmf', 0.9930683118618466), ('97hqu0', 0.9930483957112684), ('ayhts5', 0.9930370196944075), ('dsg1f2', 0.9930066908646539), ('ejm2ih', 0.9929979014793465), ('8k0akf', 0.992867081044211), ('ccl2oj', 0.9928580331330388), ('d6e90g', 0.9928354322578097), ('7lt06m', 0.9928202653685715), ('83segj', 0.9928145490100938), ('7t0hyy', 0.9927755981510016), ('c94wby', 0.9926996438349293), ('c693qw', 0.9926827658896414), ('da7u7l', 0.9926736009068934), ('cvtdxz', 0.9926594344122953), ('c1fm18', 0.9926199441643604), ('8jl7g4', 0.9925879267761477), ('d3oocj', 0.9925448886013679), ('cszmur', 0.9925044828700268), ('7x5q1a', 0.9924507592121165), ('9iyqrm', 0.9924379346048632), ('8a0md5', 0.9924109097672775), ('8fjsnr', 0.9924101674199073), ('b4x6k6', 0.992301116870583), ('dogkz6', 0.992186633902226), ('cl2k7p', 0.9921668218770126), ('7k9wdv', 0.9921655082240131), ('979m9o', 0.9921634838824613), ('cdlsq8', 0.9921574053814721), ('9d1ov4', 0.9921468932571534), ('bb7onp', 0.9920463974896265), ('cky0ts', 0.9920438433548425), ('bpkw5p', 0.9920265137860722), ('8mcqz7', 0.9919930977311326), ('bep1m9', 0.9919362736929264), ('ckan5e', 0.9919289129622268), ('8pre3v', 0.9919260493304022), ('9a90zy', 0.9918407638498608), ('cth5mu', 0.9918404006794905), ('clvc3s', 0.9918362044256579), ('chrbmo', 0.9918259671117561), ('b9ntpi', 0.9918146035740435), ('dirdve', 0.9917069695988356), ('7xl8wm', 0.9916696596495186), ('d2grma', 0.9916645782108704), ('dpb4uo', 0.991662741417937), ('8icnpl', 0.9915880880285396), ('95ywv2', 0.991569964419951), ('bht7km', 0.9915460507862786), ('b4f32u', 0.9915185329919337), ('d36q3f', 0.9914924771428228), ('8b2x5n', 0.9914916365768951), ('9cpqcm', 0.9914864468298645), ('cl1053', 0.9914766981444709), ('dmik3b', 0.9914685447853724), ('8cgya0', 0.9914633906365682), ('93y9tb', 0.9914528045932562), ('9f1rjy', 0.9914356800715874), ('b55vvd', 0.9914275241602366), ('cf67m1', 0.9914156894534328), ('8af2db', 0.9914120292452008), ('90es09', 0.9914102869478335), ('db91ya', 0.9913654855934584), ('bn7wn9', 0.9913605013038744), ('clio2p', 0.9913528932881069), ('ddbsxi', 0.9912899480599966), ('djcjmk', 0.9912892618788874), ('di4qjf', 0.9912332557130223), ('bzapca', 0.9911799833217797), ('b9lp87', 0.9911529434254013), ('7wvjzh', 0.9911387166498827), ('ba54av', 0.9911249031530575), ('ek4ttg', 0.9910628525765011), ('blbftj', 0.9910485577445731), ('cn88ru', 0.9910408687860804), ('7t4pdx', 0.9909924944216185), ('bm7m16', 0.9909708155699516), ('bmaeie', 0.9909146759949132), ('92ww2c', 0.9909142557712972), ('8np7kq', 0.990875458100916), ('bzx1q2', 0.9907265433937649), ('b84gj3', 0.9905878918718781), ('999c9l', 0.9905716119892461), ('8e92vo', 0.9905696293048112), ('bxdv8g', 0.9905440100544073), ('bcm7pz', 0.9904907876304273), ('834b8x', 0.9904866434935844), ('951hre', 0.9904689782873141), ('bhwjys', 0.9904461617808402), ('bmiv14', 0.99037340772655), ('btegap', 0.9903210715822698), ('deu61o', 0.9902939740602029), ('87eml7', 0.9902330396396856), ('bawp4l', 0.9901007359723663)], 'b8renl': [('b8renl', 1.0), ('boiln0', 0.9994170727573928), ('bqx207', 0.9992545041133506), ('cpbgjn', 0.9991619408546722), ('c1r1g7', 0.9990943528173428), ('c8pumh', 0.9990810462260069), ('82rph5', 0.999060957349777), ('8ioq7x', 0.9990534761029901), ('7q484y', 0.9990508864173158), ('8r5gsp', 0.9989139369220617), ('cm0zv9', 0.9989005858194028), ('cjmj0s', 0.9988966200317877), ('dquag5', 0.9987567483098514), ('c5xhry', 0.9987361073004684), ('92krms', 0.9987114119488014), ('cuhv7s', 0.9986594066679673), ('cm5fqk', 0.9985661628169068), ('c9bl5q', 0.9984434445141899), ('dm9in2', 0.9983568957138679), ('awrxev', 0.9982880532072338), ('93vrg9', 0.9982790961446114), ('7u6uip', 0.998090624746305), ('dermrs', 0.9979505176345634), ('9318lk', 0.9979295121917275), ('98o09d', 0.9979155562240131), ('8s6lqa', 0.9978528951311066), ('8ug5w2', 0.9978328250627095), ('cmofx3', 0.9976882227279742), ('7uellj', 0.9975334592684931), ('cvjj14', 0.9974878732296231), ('7xpco0', 0.9974011284353854), ('dhi0nq', 0.9973942733649367), ('8t0jrz', 0.9973825166214468), ('84ovj9', 0.9970425568766437), ('bj3esi', 0.9970257773036945), ('crvp8a', 0.9966647746967494), ('dkumcd', 0.9955240320915621), ('8zi7z1', 0.9953161677252472), ('c8wo24', 0.9952854561469401), ('cfvtds', 0.9952513360059061), ('8c5fwa', 0.9952233847192814), ('ciju4g', 0.9951476621555981), ('cox1o0', 0.9951119099881786), ('7tp9y7', 0.9950459392783081), ('bng7bi', 0.9950446382301762), ('bufz6c', 0.9946889227283554), ('d33r7c', 0.9937419972305038), ('bv3cvg', 0.9934980173381133), ('8y92dz', 0.9932947134864257), ('7nds2e', 0.9930719488407642), ('c9nqzf', 0.9929859002674297), ('cq63dm', 0.9921925002345985), ('db10px', 0.9918288772907546), ('d15zf9', 0.9915249002368971), ('7zquro', 0.9913146642928262), ('b8pboz', 0.9911308542942063), ('bf9v85', 0.9908748873306897), ('byjt6n', 0.9900157786134399), ('cpbic3', 0.9899028431313703), ('8zwoi7', 0.9898057274797762), ('99a6xa', 0.9894044785827267), ('btdp79', 0.9883096389778221), ('b4hatr', 0.9879189083866328), ('85gsmf', 0.9877842884945955), ('d94o4h', 0.9876079349977115), ('cdxj4d', 0.9864958546877016), ('cyorff', 0.9848421462816874), ('7meitn', 0.9845291303296845), ('85cn05', 0.9844586152626447), ('d92srw', 0.9824967139316897), ('83sgij', 0.9823977308397972), ('87uvst', 0.9822207744191387), ('dekg2l', 0.981854233745659), ('c67fet', 0.9813374390699849), ('b4oi9z', 0.9812525523488229), ('chrbil', 0.9811600427478456), ('9k1mhu', 0.9809945450630104), ('ek5s71', 0.9809281216474928), ('bqwgfb', 0.9808357412204285), ('9a7jvw', 0.9805619385118397), ('7v8n4f', 0.9801477163380983), ('9ib9n6', 0.9800306904326616), ('8l4r86', 0.9800202762388388), ('ax2d07', 0.9797079555751613), ('cqqd9i', 0.9790754288252207), ('btaea9', 0.978113688065793), ('8imzc8', 0.977885300719316), ('d5o15t', 0.97783473767929), ('8lteey', 0.9777584130294841), ('btxa7s', 0.9773614465929009), ('b3kwyx', 0.9772652443464764), ('8b1vt3', 0.9767575506047711), ('c9naf2', 0.9762019655603944), ('cgp4rx', 0.9757621526844991), ('89ugra', 0.9755434555674843), ('7myyt2', 0.9753552392338877), ('dmnpm3', 0.9744149300375943), ('9bcvad', 0.9733203416295039), ('9dpjkv', 0.9728019665923635), ('cbqy09', 0.9725134310041581), ('7zb4yw', 0.9720722331985779), ('87s6o3', 0.9720669993587641), ('8yh2sx', 0.9718171516132096), ('8h6w37', 0.9715769164687618), ('84313e', 0.9715315353534766), ('8xxrxp', 0.9715289869881082), ('dn5qkp', 0.971500486193515), ('cv3cn5', 0.9714908914561231), ('bu1g3x', 0.9711474267268522), ('8iclrx', 0.9709228426096793), ('c49a7y', 0.9705845418861663), ('civztn', 0.9705239765729595), ('9k91hy', 0.9704696314806075), ('bt2btw', 0.9704389090497574), ('8cispe', 0.9691942457545504), ('8macfc', 0.9685143554807061), ('c65b3i', 0.9682753460358918), ('9fcfvn', 0.9681214913572808), ('dmje6n', 0.9681015411952004), ('9fgg5h', 0.9678796172019278), ('84gr39', 0.9678403701259104), ('b4q6ju', 0.967084295187563), ('8gduot', 0.9661940239496534), ('ddjvhn', 0.9657056939008852), ('c7i606', 0.965455207477911), ('9hcflb', 0.9654371313561628), ('7tv5w3', 0.9653873580372244), ('ctxr4x', 0.9650435936972973), ('7p7886', 0.9640341118844307), ('bjvuy6', 0.9634634008947375), ('bhul54', 0.9631262397169796), ('7o31xl', 0.9629641838600816), ('d53grj', 0.9627721716573697), ('8ayr13', 0.9626295388799597), ('b2exsn', 0.9607294360199726), ('7v2go6', 0.9599476157026261), ('dnbryr', 0.959497851046173), ('8sddb4', 0.957836434811558), ('czhkdh', 0.957670847411674), ('avb7ml', 0.957127563513331), ('dcmca4', 0.9559444259893911), ('daqecd', 0.9541829173607382), ('bygxgk', 0.9530554845869192), ('c6j3g0', 0.9527326638705159), ('b948em', 0.9522556865117322), ('7pi4f0', 0.951819489386776), ('cb1kwn', 0.9505945807427897), ('d74yjc', 0.9489889180581109), ('dgkwld', 0.9482296731309897), ('dmzuuj', 0.9445053313761141), ('cqzr6z', 0.942427046965165), ('8e6hlo', 0.9423661026567698), ('ckzew5', 0.9419177671172756), ('crfpn5', 0.9411715681402493), ('7mtwlo', 0.9400943423815907), ('9esdeg', 0.9399238796475023), ('7k82vt', 0.9364616045047475), ('92tiu4', 0.935961905282389), ('cg7w4g', 0.9355669565853681), ('7odmyk', 0.934562717160767), ('c6tyrw', 0.9345146805981672), ('cfvajx', 0.9328160832488511), ('8gqvfi', 0.9317611210116589), ('dnu7ak', 0.9276275242198794), ('8faas0', 0.9255921185052489), ('88adel', 0.9220878413201572)], '7zxrrv': [('7zxrrv', 1.0), ('d3r811', 0.9908575145726545), ('8flrbp', 0.9774683666196449)]}\n"
     ]
    }
   ],
   "source": [
    "numClusters = 6\n",
    "numTotalPosts = 1000\n",
    "cluster = Similarity_clustering(post_emb, numClusters, numTotalPosts)\n",
    "print(cluster)\n",
    "\n",
    "with open('sample1000_clust_top_tfidf.pickle', 'wb') as handle:\n",
    "    pickle.dump(cluster, handle, protocol=pickle.HIGHEST_PROTOCOL)"
   ]
  },
  {
   "cell_type": "code",
   "execution_count": 23,
   "metadata": {},
   "outputs": [
    {
     "name": "stdout",
     "output_type": "stream",
     "text": [
      "{'91srwq': 0, 'dk4fsz': 0, 'dinmi1': 0, 'at7vl6': 0, '7sb0d3': 0, '7rmlxn': 0, '8gf8br': 0, '7qbpme': 0, 'bkediu': 0, 'd4y131': 0, 'cjysbh': 0, 'b69acp': 0, '9f2zv1': 0, 'bw5sjh': 0, 'cy7zxe': 0, '9hwiu4': 0, 'b4fvo0': 0, 'cppqoq': 0, 'd4gwp1': 0, 'cy4rc8': 0, '7l8e5l': 0, '8ur1t0': 0, 'bqqyiw': 0, '8nkwkg': 0, 'dk4q1x': 0, 'cjx0ii': 0, 'dao2fm': 0, 'c9ibxr': 0, 'bnbjiv': 0, '9akkq6': 0, '85wkbf': 0, 'bdxz9y': 0, '8yjjmj': 0, 'dmp3rd': 0, 'beeham': 0, 'd182gu': 0, '8bnhwt': 0, 'cumrtb': 0, 'ca5943': 0, 'b2m2zv': 0, 'd4nyln': 0, '95rzdi': 0, '7qlequ': 0, 'chooph': 0, 'doohfs': 0, 'd2jcw1': 0, 'butpqq': 0, 'cluq3w': 0, '8cmyxx': 0, '84n43b': 0, '7qyrw0': 0, '7rllhr': 0, 'cichas': 0, 'd0p7b4': 0, 'dj6cyi': 0, 'bgsneo': 0, '7pf5we': 0, 'czesor': 0, 'bka12a': 0, 'cm0tj4': 0, '7lp4wa': 0, 'dgqjhx': 0, 'b3rzek': 0, '8es5oz': 0, 'd1ns76': 0, 'c7fet6': 0, '85w9re': 0, '8hoerr': 0, 'dpf3a2': 0, '8418lv': 0, '9e9ist': 0, '7k214l': 0, 'ckajnl': 0, 'dfwde8': 0, '9hs2ol': 0, '9dzn72': 0, 'asat9m': 0, 'b0oi7n': 0, '7v5val': 0, 'atje2a': 0, 'cyskta': 0, '8rptaw': 0, 'dggejh': 0, 'clsh88': 0, '7rh08e': 0, '84t5qb': 0, 'dbtrja': 0, '97x9b2': 0, '9bkiw9': 0, '8dy1qw': 0, 'b19xfe': 0, '8v15ze': 0, '7jo78z': 0, '8b18h9': 0, 'crrans': 0, 'ddm7jp': 0, '7x627h': 0, 'bn6hs9': 0, '9h5csu': 0, 'b508ab': 0, '947sw6': 0, 'cc9t51': 0, 'd4js7c': 0, '7z7jqc': 0, 'dc4rur': 0, '9a3aik': 0, 'bdq8tp': 0, 'c54lnv': 0, '9hvn0f': 0, '8hjzrc': 0, 'asmqr2': 0, 'buevzw': 0, 'b7w4ug': 0, '7mcl3b': 0, 'aym29q': 0, '8xekkb': 0, 'cusq05': 0, '9f4g7f': 0, 'dkr5zg': 0, 'c9awxn': 0, 'cl9n93': 0, '8ae4ec': 0, '8482o0': 0, '90zsvk': 0, '8wjlax': 0, 'bc8f14': 0, '83l4xl': 0, 'cuz846': 0, '8dxdak': 0, '9ijlmj': 0, '9coy3r': 0, 'c35jtl': 0, 'birabl': 0, '8knoo3': 0, 'd8qs5g': 0, 'c0uumi': 0, '8vv6up': 0, '8ng7st': 0, 'c9ac0j': 0, '9gdh8m': 0, '7obp2v': 0, '7l0149': 0, 'bb8dju': 0, 'bkc131': 0, 'dj0c9w': 0, 'awckrd': 0, '9k1gic': 0, '87r5d8': 0, '81049i': 0, 'blrlaf': 0, '88mxd9': 0, '7wrk7h': 0, 'c6ouz8': 0, 'c17x10': 0, 'at2bgp': 0, '8fsbz5': 0, '9bxs0q': 0, '97yxpi': 0, 'dffr62': 0, '846526': 0, '90fu8r': 0, '96rqix': 0, '9acj41': 0, '9et5bi': 0, 'dmko8p': 0, '9158ft': 0, 'b05b7i': 0, 'dna7r0': 1, '8vjo2q': 1, '8x0ysy': 1, '7uvsp6': 1, 'dnq1n4': 1, 'bo5mjy': 1, '8agzop': 1, 'atbj61': 1, '7lxa3s': 1, 'bth2ss': 1, 'cahykp': 1, '7n2ch2': 1, '836jum': 1, '8bt5fq': 1, 'b9tcvk': 1, '88n3j8': 1, 'bqxj09': 1, '7ndwj5': 1, 'cdk58c': 1, 'ck84w1': 1, 'ccy29b': 1, '8brf15': 1, 'bu7zan': 1, 'b7uw8q': 1, 'btnsti': 1, '7tic5b': 1, 'b6sf0b': 1, 'c6pvco': 1, '7orgl5': 1, 'ciw5ui': 1, 'bwjzbz': 1, 'dalaic': 1, '86to44': 1, 'dndqu5': 1, '8o0hje': 1, 'dd2akm': 1, 'cgwx80': 1, '7u7ka0': 1, '7o9535': 1, 'cle00a': 1, 'cp8h2f': 1, 'bi3zlg': 1, '8v1yrn': 1, 'c7katx': 1, '9atsa6': 1, 'ax65hz': 1, '81c1ve': 1, 'bxe4s9': 1, 'bmqcop': 1, 'ayzpvf': 1, '7oyxfw': 1, '8f09nq': 1, '8clfut': 1, '7qwzco': 1, 'ayndo1': 1, '90nf8f': 1, '7ol9zn': 1, 'bh4gge': 1, 'c8j77n': 1, '9j3d5e': 1, '811d4f': 1, '8iwm2x': 1, 'cvjfbw': 1, 'c7fipn': 1, '8mz9o1': 1, '98zsbd': 1, 'cgwgx6': 1, '7jplwv': 1, 'bvg8cx': 1, 'crcadk': 1, 'ch7z2r': 1, 'btc8oa': 1, 'b5u3j3': 1, '9czcr2': 1, '9jvywb': 1, 'dent2i': 1, '7upzvn': 1, '7w4alb': 1, 'bryjrp': 1, 'bb0oli': 1, '82jhsz': 1, 'cp9pu0': 1, 'd0b6qb': 1, 'c071le': 1, 'digsu0': 1, '8oxig1': 1, 'au99kg': 1, '9fz148': 1, 'c8rtzl': 1, '7kutl0': 1, 'bqedtr': 1, 'deay8i': 1, 'c3ur6a': 1, '9g725v': 1, '8eu8qa': 1, '96rlu8': 1, '9g5iuc': 1, '8cix95': 1, 'cg9umf': 1, 'c7y5ai': 1, 'awrorr': 1, '7rn3bc': 1, 'd90m5n': 1, 'bkdatg': 1, '91fv1u': 1, '85u56v': 1, 'cxxrpp': 1, 'bf8824': 1, '8v1s4h': 1, 'cjtisy': 1, 'cutcr2': 1, '8t41t9': 1, '7wlr02': 1, 'cyj6yc': 1, '99inoa': 1, 'cnyr2m': 1, 'bqysob': 1, '7u4di3': 1, 'dolrre': 1, 'b2of3p': 1, '7war0f': 1, 'arb35w': 1, '8eold0': 1, 'c59kxq': 1, 'ar4h16': 1, 'btvxz9': 1, 'c9970e': 1, 'd4wrd2': 1, '8prekb': 1, '7qtx62': 1, '9etltt': 1, 'csvfuo': 1, '88obky': 1, 'bagu0r': 1, 'ds8vvp': 1, 'biawsu': 1, '7uetyc': 1, '8cre77': 1, 'dkwkje': 1, 'cu301w': 1, '7kwzdx': 1, '8ic065': 1, '7vbeq5': 1, '85sa7a': 1, 'bvgt2d': 1, 'd9qhd7': 1, '89wbxc': 1, '8artjk': 1, 'bpuvp8': 1, 'dhkxv4': 1, 'b7q59g': 1, '7qz2gm': 1, '7ujvr2': 1, '7zr5z7': 1, '7mz9e8': 1, 'czryok': 1, '9i2uey': 1, '996jhc': 1, 'cbowh3': 1, 'azl7y7': 1, 'da3phi': 1, 'c5q62o': 1, 'bi4zru': 1, 'cyqovn': 1, '7k0sbi': 1, 'ccpye2': 1, '94dsy6': 2, 'd50wn0': 2, '8c7ifz': 2, 'chaeno': 2, '7rc9in': 2, 'c3kr9n': 2, 'bdzdwj': 2, '9jzgny': 2, 'cu52n9': 2, 'c8o9rc': 2, 'dfxsve': 2, '9h20wv': 2, 'cldde8': 2, '8t4rcn': 2, 'dplxqx': 2, 'ddk9hf': 2, 'bkyxjr': 2, 'csmydx': 2, 'bdh8qr': 2, 'bqnzjo': 2, 'clha9o': 2, '825paq': 2, 'cohi1g': 2, '7uz51y': 2, 'cy4nvx': 2, 'db893q': 2, 'bf6egi': 2, '7mcnlx': 2, '9e0t8x': 2, '8zwb4n': 2, 'czpywj': 2, 'bsusx0': 2, '80gx6a': 2, 'dlqlsr': 2, 'cy86ib': 2, 'c83p0q': 2, 'c0zg62': 2, 'd56bae': 2, 'djk9d8': 2, '83hsfm': 2, '7nchx1': 2, 'awxlde': 2, 'cqy487': 2, 'c1tzw7': 2, '7vtibe': 2, 'bl8f22': 2, 'd0p7pq': 2, 'd3jn26': 2, '7vlyvb': 2, '8ar2pn': 2, 'dlvwez': 2, 'dr8vwx': 2, 'bcd22c': 2, '87g6tw': 2, '8gmb9p': 2, '94huyk': 2, 'cf5vch': 2, 'atnl2h': 2, 'c95ft7': 2, 'delkim': 2, 'bhqvz3': 2, '8qd163': 2, 'bjmmu9': 2, 'dfy7fa': 2, '8r2swb': 2, '82kyon': 2, '7tg9uy': 2, 'bw7vs9': 2, '9htuys': 2, 'c14oug': 2, 'd9jxqq': 2, '8l6g07': 2, 'b25zvf': 2, '8kelo0': 2, '7thpqu': 2, 'cz99le': 2, '8kukhx': 2, '8de0me': 2, '8xuc17': 2, '7jt55n': 2, 'dczv5v': 2, '8vdgml': 2, '829wgr': 2, 'b4m12r': 2, 'biu2a5': 2, 'ba2nak': 2, 'bv9trd': 2, 'arv0fd': 2, 'df51f0': 2, '7rmwyx': 2, '9hu3ud': 2, 'doe5ez': 2, '80rx1p': 2, 'bpr24q': 2, 'd7ycfv': 2, '8bcalz': 2, 'az6scz': 2, '7ppsmh': 2, 'clsaq5': 2, 'bj0xna': 2, '87h0jg': 2, '7lx887': 2, 'cjtrot': 2, '8tfg1k': 2, 'b3m0z9': 2, '7o040y': 2, 'b4al7f': 2, 'cgytmd': 2, '9and9c': 2, 'b76na5': 2, 'b2flkw': 2, 'b1ktxd': 2, 'd68pal': 2, 'axqsm6': 2, '9fqom2': 2, '7pnmsd': 2, 'c0usiz': 2, '8c03cd': 2, 'da9nsu': 2, 'bg41kv': 2, '90pp5v': 2, 'csmlvs': 2, '8iwm64': 2, '7ns8gb': 2, 'bn3fh7': 2, '7t1107': 2, '85d9bt': 2, 'bzjx1m': 2, '7y7ay8': 2, 'cl2jzl': 2, '87zrli': 2, 'c4bdob': 2, 'ctjmn6': 2, 'boll8x': 2, '7wy6wv': 2, 'cefjgg': 2, '7qoczl': 2, 'ckwzif': 2, 'bk942e': 2, 'bt4j2h': 2, '913dao': 2, 'd28zc8': 2, 'cw6w5o': 2, '8phi3b': 2, '9gvhrh': 2, '8z49cd': 2, 'bp5f51': 2, 'd1ir42': 2, '99532q': 2, '9k1a15': 2, 'cbd4x8': 2, 'cfkkw0': 2, 'c72veh': 2, 'b0yhhx': 2, '7vtxly': 2, 'cre0jf': 2, 'bqwccn': 2, 'c6n1o0': 2, '98j1y5': 2, 'dmw5m3': 2, 'bwp6d3': 2, '9fjm3v': 2, 'dlyv3k': 2, '7o9kxf': 2, 'cqrdbi': 2, 'bj04on': 2, '8qd4wl': 3, 'b2przb': 3, 'b0icdy': 3, '8zji85': 3, '7y8mdg': 3, 'aws4he': 3, 'cq4y03': 3, '7joftt': 3, '93y0e0': 3, 'cphg40': 3, 'dht6r8': 3, '88srg3': 3, '9hkkup': 3, 'bda0db': 3, 'c32fq4': 3, 'cd694f': 3, 'cfvrmi': 3, '94y7yz': 3, 'axceid': 3, '8cq1m1': 3, 'b4s1xv': 3, '8dei7n': 3, '7sy3cl': 3, '7k3dho': 3, 'd98ib1': 3, 'bh5zis': 3, '7q7re0': 3, 'asi2zg': 3, 'c9r1mg': 3, '920llo': 3, 'crd82k': 3, 'dr8tv1': 3, 'bkcofk': 3, '94h0lh': 3, 'cqjrlz': 3, 'cjmvwr': 3, 'b92m2b': 3, 'cji6bn': 3, 'cw1usc': 3, '9al8b5': 3, '8lj0cg': 3, '7vukx5': 3, 'bdu6vh': 3, 'dkui6b': 3, '7qx92o': 3, '9j9f3q': 3, '8kn01a': 3, 'd0jlhr': 3, 'ck5cvs': 3, '7wsvwd': 3, 'db3xfc': 3, '7p11ga': 3, '7rbe7i': 3, 'd1z70c': 3, 'cjdzem': 3, '9hhlg4': 3, '7zln17': 3, 'cw87ch': 3, 'cl2cen': 3, 'der5kb': 3, '7rsbz7': 3, 'dssqyx': 3, 'dospz8': 3, 'di7lew': 3, 'de5c52': 3, '7vd3yj': 3, 'c9vd40': 3, 'dd09sh': 3, 'bb47a4': 3, '7k4vi5': 3, '9bhwgo': 3, '7t8gqk': 3, '7lvqub': 3, 'aspniz': 3, '7mgc0p': 3, 'b9p5zg': 3, 'chujg0': 3, '9ibc09': 3, '98wmkq': 3, 'crij3g': 3, '9fve7a': 3, '8u5vn5': 3, 'dfg8v5': 3, 'dk499n': 3, '9b6hss': 3, '8tamec': 3, '9idsst': 3, '8dgngr': 3, '7xd0vf': 3, 'cdawhl': 3, '8cirus': 3, 'biprco': 3, 'dk1d7n': 3, 'bj7jfj': 3, 'aurdq3': 3, 'az58dz': 3, '7ryg7e': 3, '7wrm09': 3, '856038': 3, '88jk4u': 3, '9jsqnf': 3, '92q10x': 3, '8zfxpe': 3, 'bkawgp': 3, 'ba0ue1': 3, 'bsgxhp': 3, 'cxkte4': 3, 'czpj9h': 3, 'bgc0fy': 3, 'bzvd44': 3, 'dbtf63': 3, 'd88uzq': 3, 'curv3t': 3, '8e5h87': 3, 'c28qrb': 3, '835onz': 3, '85cdnn': 3, 'btelqd': 3, '7ny1x1': 3, 'aupgs0': 3, '98tvq3': 3, '98oqfd': 3, '7lq9wv': 3, 'b0e53g': 3, '8ovy3r': 3, 'c4sf1y': 3, 'danrz6': 3, 'bc9lz3': 3, 'cczx1v': 3, 'cgbv0n': 3, 'btqmlb': 3, 'ar4ddv': 3, 'cmnu2b': 3, 'c4pdil': 3, 'chcyro': 3, 'b7ie4l': 3, 'bapp1e': 3, '8tqans': 3, '8978mz': 3, '9cs6bu': 3, '7njibw': 3, 'bp6ll8': 3, '7tj6sj': 3, 'cxp5lj': 3, 'bmhet7': 3, '8hmq2u': 3, '8ri957': 3, '7qf2z4': 3, '8bwor7': 3, '8fbr2o': 3, 'bm5z4r': 3, '8sig1h': 3, '9hooas': 3, 'dj71wn': 3, '8qqxri': 3, '7lm7xl': 3, '8dckix': 3, 'd6i7b0': 3, 'c80mcc': 3, '84rz1z': 3, 'bm9q4k': 3, '9h4dwk': 3, 'd6r1ax': 3, 'at46c9': 3, 'dbus0h': 3, '7s845f': 3, 'cygcbi': 4, '9jn0gd': 4, '8vpr9w': 4, 'dqiinb': 4, 'bhu0z6': 4, '9c2pzh': 4, 'bp2vc5': 4, '8bu1zw': 4, 'cdngki': 4, 'cc9iij': 4, '90vyrb': 4, '81b2x6': 4, 'bkq2j7': 4, '8ljqto': 4, '9ff34f': 4, 'd7ssx2': 4, '7ruiq5': 4, '834pm3': 4, 'bts9fb': 4, '8bj2su': 4, 'atg0xp': 4, '8teorv': 4, '9h6oz9': 4, '8sq2z1': 4, '7nclnu': 4, '85j5w3': 4, 'c6uasa': 4, '97sqhr': 4, '96qops': 4, '7mio5a': 4, '9id12l': 4, 'bwladb': 4, '8awc7v': 4, '8lghij': 4, 'bv0769': 4, '7lll4f': 4, '7zlwe1': 4, '9b174z': 4, '90r17a': 4, '7zxaut': 4, '9dniam': 4, 'aw475u': 4, 'bdsb98': 4, '7pldvh': 4, '9247zb': 4, '8wzzuk': 4, '7pdu1e': 4, '8e6xu0': 4, '9byqxk': 4, 'ckxskr': 4, '7mdof0': 4, '8znuat': 4, 'ck79qe': 4, 'au9opt': 4, 'buz19a': 4, 'b2lpfl': 4, '8em7tv': 4, 'd0s4yn': 4, '91lmrx': 4, '97vf2h': 4, '97ugwh': 4, '7l83ji': 4, 'del70k': 4, 'c7qv4z': 4, 'bjlo0a': 4, '956ioh': 4, 'd2m9k2': 4, '8ectpf': 4, 'djkmqx': 4, 'djg8r0': 4, '8798zh': 4, '96z2rv': 4, 'cjfmmf': 4, '97hqu0': 4, 'ayhts5': 4, 'dsg1f2': 4, 'ejm2ih': 4, '8k0akf': 4, 'ccl2oj': 4, 'd6e90g': 4, '7lt06m': 4, '83segj': 4, '7t0hyy': 4, 'c94wby': 4, 'c693qw': 4, 'da7u7l': 4, 'cvtdxz': 4, 'c1fm18': 4, '8jl7g4': 4, 'd3oocj': 4, 'cszmur': 4, '7x5q1a': 4, '9iyqrm': 4, '8a0md5': 4, '8fjsnr': 4, 'b4x6k6': 4, 'dogkz6': 4, 'cl2k7p': 4, '7k9wdv': 4, '979m9o': 4, 'cdlsq8': 4, '9d1ov4': 4, 'bb7onp': 4, 'cky0ts': 4, 'bpkw5p': 4, '8mcqz7': 4, 'bep1m9': 4, 'ckan5e': 4, '8pre3v': 4, '9a90zy': 4, 'cth5mu': 4, 'clvc3s': 4, 'chrbmo': 4, 'b9ntpi': 4, 'dirdve': 4, '7xl8wm': 4, 'd2grma': 4, 'dpb4uo': 4, '8icnpl': 4, '95ywv2': 4, 'bht7km': 4, 'b4f32u': 4, 'd36q3f': 4, '8b2x5n': 4, '9cpqcm': 4, 'cl1053': 4, 'dmik3b': 4, '8cgya0': 4, '93y9tb': 4, '9f1rjy': 4, 'b55vvd': 4, 'cf67m1': 4, '8af2db': 4, '90es09': 4, 'db91ya': 4, 'bn7wn9': 4, 'clio2p': 4, 'ddbsxi': 4, 'djcjmk': 4, 'di4qjf': 4, 'bzapca': 4, 'b9lp87': 4, '7wvjzh': 4, 'ba54av': 4, 'ek4ttg': 4, 'blbftj': 4, 'cn88ru': 4, '7t4pdx': 4, 'bm7m16': 4, 'bmaeie': 4, '92ww2c': 4, '8np7kq': 4, 'bzx1q2': 4, 'b84gj3': 4, '999c9l': 4, '8e92vo': 4, 'bxdv8g': 4, 'bcm7pz': 4, '834b8x': 4, '951hre': 4, 'bhwjys': 4, 'bmiv14': 4, 'btegap': 4, 'deu61o': 4, '87eml7': 4, 'bawp4l': 4, 'b8renl': 5, 'boiln0': 5, 'bqx207': 5, 'cpbgjn': 5, 'c1r1g7': 5, 'c8pumh': 5, '82rph5': 5, '8ioq7x': 5, '7q484y': 5, '8r5gsp': 5, 'cm0zv9': 5, 'cjmj0s': 5, 'dquag5': 5, 'c5xhry': 5, '92krms': 5, 'cuhv7s': 5, 'cm5fqk': 5, 'c9bl5q': 5, 'dm9in2': 5, 'awrxev': 5, '93vrg9': 5, '7u6uip': 5, 'dermrs': 5, '9318lk': 5, '98o09d': 5, '8s6lqa': 5, '8ug5w2': 5, 'cmofx3': 5, '7uellj': 5, 'cvjj14': 5, '7xpco0': 5, 'dhi0nq': 5, '8t0jrz': 5, '84ovj9': 5, 'bj3esi': 5, 'crvp8a': 5, 'dkumcd': 5, '8zi7z1': 5, 'c8wo24': 5, 'cfvtds': 5, '8c5fwa': 5, 'ciju4g': 5, 'cox1o0': 5, '7tp9y7': 5, 'bng7bi': 5, 'bufz6c': 5, 'd33r7c': 5, 'bv3cvg': 5, '8y92dz': 5, '7nds2e': 5, 'c9nqzf': 5, 'cq63dm': 5, 'db10px': 5, 'd15zf9': 5, '7zquro': 5, 'b8pboz': 5, 'bf9v85': 5, 'byjt6n': 5, 'cpbic3': 5, '8zwoi7': 5, '99a6xa': 5, 'btdp79': 5, 'b4hatr': 5, '85gsmf': 5, 'd94o4h': 5, 'cdxj4d': 5, 'cyorff': 5, '7meitn': 5, '85cn05': 5, 'd92srw': 5, '83sgij': 5, '87uvst': 5, 'dekg2l': 5, 'c67fet': 5, 'b4oi9z': 5, 'chrbil': 5, '9k1mhu': 5, 'ek5s71': 5, 'bqwgfb': 5, '9a7jvw': 5, '7v8n4f': 5, '9ib9n6': 5, '8l4r86': 5, 'ax2d07': 5, 'cqqd9i': 5, 'btaea9': 5, '8imzc8': 5, 'd5o15t': 5, '8lteey': 5, 'btxa7s': 5, 'b3kwyx': 5, '8b1vt3': 5, 'c9naf2': 5, 'cgp4rx': 5, '89ugra': 5, '7myyt2': 5, 'dmnpm3': 5, '9bcvad': 5, '9dpjkv': 5, 'cbqy09': 5, '7zb4yw': 5, '87s6o3': 5, '8yh2sx': 5, '8h6w37': 5, '84313e': 5, '8xxrxp': 5, 'dn5qkp': 5, 'cv3cn5': 5, 'bu1g3x': 5, '8iclrx': 5, 'c49a7y': 5, 'civztn': 5, '9k91hy': 5, 'bt2btw': 5, '8cispe': 5, '8macfc': 5, 'c65b3i': 5, '9fcfvn': 5, 'dmje6n': 5, '9fgg5h': 5, '84gr39': 5, 'b4q6ju': 5, '8gduot': 5, 'ddjvhn': 5, 'c7i606': 5, '9hcflb': 5, '7tv5w3': 5, 'ctxr4x': 5, '7p7886': 5, 'bjvuy6': 5, 'bhul54': 5, '7o31xl': 5, 'd53grj': 5, '8ayr13': 5, 'b2exsn': 5, '7v2go6': 5, 'dnbryr': 5, '8sddb4': 5, 'czhkdh': 5, 'avb7ml': 5, 'dcmca4': 5, 'daqecd': 5, 'bygxgk': 5, 'c6j3g0': 5, 'b948em': 5, '7pi4f0': 5, 'cb1kwn': 5, 'd74yjc': 5, 'dgkwld': 5, 'dmzuuj': 5, 'cqzr6z': 5, '8e6hlo': 5, 'ckzew5': 5, 'crfpn5': 5, '7mtwlo': 5, '9esdeg': 5, '7k82vt': 5, '92tiu4': 5, 'cg7w4g': 5, '7odmyk': 5, 'c6tyrw': 5, 'cfvajx': 5, '8gqvfi': 5, 'dnu7ak': 5, '8faas0': 5, '88adel': 5, '7zxrrv': 6, 'd3r811': 6, '8flrbp': 6}\n"
     ]
    }
   ],
   "source": [
    "# Transform clusters into a post_id:cluster_id dict\n",
    "transformed_cluster = {}\n",
    "clust_num = 0\n",
    "for key in cluster.keys():\n",
    "    for post in cluster[key]:\n",
    "        transformed_cluster[post[0]] = clust_num\n",
    "    clust_num += 1\n",
    "print(transformed_cluster)\n",
    "    \n",
    "with open('sample1000_clustdict_top_tfidf.pickle', 'wb') as handle:\n",
    "    pickle.dump(transformed_cluster, handle, protocol=pickle.HIGHEST_PROTOCOL)"
   ]
  },
  {
   "cell_type": "markdown",
   "metadata": {},
   "source": [
    "## Score Clusters: Calculate Same-Author-Score"
   ]
  },
  {
   "cell_type": "code",
   "execution_count": 40,
   "metadata": {},
   "outputs": [],
   "source": [
    "import pickle\n",
    "\n",
    "# Read clusters\n",
    "with open('sample1000_clust_top_tfidf.pickle', 'rb') as handle:\n",
    "    clusters = pickle.load(handle)\n",
    "with open('sample1000_clustdict_top_tfidf.pickle', 'rb') as handle:\n",
    "    clustdict = pickle.load(handle)\n",
    "# Read author list\n",
    "with open('sample1000_parse_authors.pickle', 'rb') as handle:\n",
    "    authors = pickle.load(handle)"
   ]
  },
  {
   "cell_type": "code",
   "execution_count": 42,
   "metadata": {},
   "outputs": [
    {
     "name": "stdout",
     "output_type": "stream",
     "text": [
      "0.7142857142857142\n"
     ]
    }
   ],
   "source": [
    "import itertools\n",
    "\n",
    "num_clust_pair = 0\n",
    "num_total_pair = 0\n",
    "\n",
    "for auth in authors:\n",
    "    if len(authors[auth]) < 2:\n",
    "        continue\n",
    "    for pair in itertools.product(authors[auth],authors[auth]):\n",
    "        if pair[0] == pair[1]:\n",
    "            continue\n",
    "        num_total_pair += 1\n",
    "        if clustdict[pair[0]] == clustdict[pair[1]]:\n",
    "            num_clust_pair += 1\n",
    "\n",
    "score_sas = (num_clust_pair / num_total_pair) - (1/len(clusters))\n",
    "print(score_sas)"
   ]
  },
  {
   "cell_type": "markdown",
   "metadata": {},
   "source": [
    "## Score Clusters: Calculate Jaccard Score"
   ]
  },
  {
   "cell_type": "code",
   "execution_count": null,
   "metadata": {},
   "outputs": [],
   "source": []
  }
 ],
 "metadata": {
  "kernelspec": {
   "display_name": "Python 3",
   "language": "python",
   "name": "python3"
  },
  "language_info": {
   "codemirror_mode": {
    "name": "ipython",
    "version": 3
   },
   "file_extension": ".py",
   "mimetype": "text/x-python",
   "name": "python",
   "nbconvert_exporter": "python",
   "pygments_lexer": "ipython3",
   "version": "3.7.6"
  },
  "varInspector": {
   "cols": {
    "lenName": 16,
    "lenType": 16,
    "lenVar": 40
   },
   "kernels_config": {
    "python": {
     "delete_cmd_postfix": "",
     "delete_cmd_prefix": "del ",
     "library": "var_list.py",
     "varRefreshCmd": "print(var_dic_list())"
    },
    "r": {
     "delete_cmd_postfix": ") ",
     "delete_cmd_prefix": "rm(",
     "library": "var_list.r",
     "varRefreshCmd": "cat(var_dic_list()) "
    }
   },
   "types_to_exclude": [
    "module",
    "function",
    "builtin_function_or_method",
    "instance",
    "_Feature"
   ],
   "window_display": false
  }
 },
 "nbformat": 4,
 "nbformat_minor": 2
}
