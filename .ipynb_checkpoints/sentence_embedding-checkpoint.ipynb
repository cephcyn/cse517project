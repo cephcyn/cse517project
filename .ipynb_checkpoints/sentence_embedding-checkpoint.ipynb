{
 "cells": [
  {
   "cell_type": "code",
   "execution_count": 1,
   "metadata": {
    "collapsed": true
   },
   "outputs": [],
   "source": [
    "import gensim\n",
    "import numpy as np \n",
    "import pandas as pd"
   ]
  },
  {
   "cell_type": "code",
   "execution_count": 2,
   "metadata": {
    "collapsed": true
   },
   "outputs": [],
   "source": [
    "from collections import Counter"
   ]
  },
  {
   "cell_type": "code",
   "execution_count": 3,
   "metadata": {
    "collapsed": true
   },
   "outputs": [],
   "source": [
    "from nltk.tokenize import RegexpTokenizer"
   ]
  },
  {
   "cell_type": "code",
   "execution_count": 48,
   "metadata": {
    "collapsed": true
   },
   "outputs": [],
   "source": [
    "import pickle "
   ]
  },
  {
   "cell_type": "code",
   "execution_count": 50,
   "metadata": {
    "collapsed": true
   },
   "outputs": [],
   "source": [
    "from sklearn.metrics.pairwise import cosine_similarity"
   ]
  },
  {
   "cell_type": "code",
   "execution_count": 4,
   "metadata": {
    "collapsed": true
   },
   "outputs": [],
   "source": [
    "# Load Google's pre-trained Word2Vec model.\n",
    "model = gensim.models.KeyedVectors.load_word2vec_format('GoogleNews-vectors-negative300.bin', binary=True)  "
   ]
  },
  {
   "cell_type": "markdown",
   "metadata": {},
   "source": [
    "## Parsing raw reddit posts"
   ]
  },
  {
   "cell_type": "code",
   "execution_count": 5,
   "metadata": {},
   "outputs": [
    {
     "name": "stdout",
     "output_type": "stream",
     "text": [
      "[nltk_data] Downloading package wordnet to /Users/apple/nltk_data...\n",
      "[nltk_data]   Package wordnet is already up-to-date!\n",
      "[nltk_data] Downloading package stopwords to /Users/apple/nltk_data...\n",
      "[nltk_data]   Package stopwords is already up-to-date!\n"
     ]
    }
   ],
   "source": [
    "import csv\n",
    "import nltk\n",
    "from nltk.tokenize import word_tokenize\n",
    "from nltk.corpus import stopwords\n",
    "from nltk.stem import WordNetLemmatizer\n",
    "import re\n",
    "\n",
    "nltk.download('wordnet')\n",
    "lemmatizer = WordNetLemmatizer()\n",
    "# print(lemmatizer.lemmatize(\"cats\"))\n",
    "\n",
    "nltk.download('stopwords')\n",
    "stop_words = set(stopwords.words('english'))\n",
    "tokenizer = RegexpTokenizer(r'\\w+')\n",
    "\n",
    "def parse_reddit_csv(filename):\n",
    "    print(\"Reading from\", filename)\n",
    "    csv_cols = []\n",
    "    frequencies = {}\n",
    "    with open(filename) as csvfile:\n",
    "        reader = csv.DictReader(csvfile)\n",
    "        for row in reader:\n",
    "            #remove numbers \n",
    "            row['selftext'] = re.sub(r'\\d+', '', row['selftext'])\n",
    "            row['title'] = re.sub(r'\\d+', '', row['title'])\n",
    "            # Tokenize the post text (selftext) and post title\n",
    "            #remove punctuations \n",
    "            post_tokens = tokenizer.tokenize(row['selftext'])\n",
    "            title_tokens = tokenizer.tokenize(row['title'])\n",
    "            # Filter out stopwords\n",
    "            post_tokens = [w for w in post_tokens if not w in stop_words]\n",
    "            title_tokens = [w for w in title_tokens if not w in stop_words]\n",
    "            # Lemmatize the post text (reduce words to word stems i.e. cats->cat, liked->like)\n",
    "            post_tokens = [lemmatizer.lemmatize(w, 'n') for w in post_tokens]\n",
    "            post_tokens = [lemmatizer.lemmatize(w, 'v') for w in post_tokens]\n",
    "            title_tokens = [lemmatizer.lemmatize(w, 'n') for w in title_tokens]\n",
    "            title_tokens = [lemmatizer.lemmatize(w, 'v') for w in title_tokens]\n",
    "            csv_cols.append({'author': row['author'],\n",
    "                             'selftext': post_tokens,\n",
    "                             'title': title_tokens,\n",
    "                            'post_id': row['id']})\n",
    "            # TODO need to collect frequencies of words in the entire corpus\n",
    "            # TODO update frequencies mapping from word->count and also get a sum\n",
    "    return csv_cols, frequencies"
   ]
  },
  {
   "cell_type": "code",
   "execution_count": 6,
   "metadata": {},
   "outputs": [
    {
     "name": "stdout",
     "output_type": "stream",
     "text": [
      "Reading from final_proj_data_preprocessed_1000sample.csv\n"
     ]
    }
   ],
   "source": [
    "parsed = parse_reddit_csv('final_proj_data_preprocessed_1000sample.csv')"
   ]
  },
  {
   "cell_type": "markdown",
   "metadata": {},
   "source": [
    "## Calculate word embeddings"
   ]
  },
  {
   "cell_type": "code",
   "execution_count": 40,
   "metadata": {
    "collapsed": true
   },
   "outputs": [],
   "source": [
    "sen_emb = {}\n",
    "for i in range(len(parsed[0])):\n",
    "    counts = Counter(parsed[0][i]['selftext']).items()\n",
    "    freq = pd.DataFrame(counts)\n",
    "    freq = freq.rename(columns={0: \"word\", 1: 'freq'})\n",
    "    #inverse relative frequency as weight \n",
    "    freq['inv_rfreq'] = freq['freq'].sum()/freq['freq']\n",
    "    unknowns = []\n",
    "    emb_dict = {}\n",
    "    for w in freq['word'].to_list():\n",
    "        try:\n",
    "            emb = model[w]\n",
    "            emb_dict.update({w:emb})\n",
    "        except:\n",
    "            unknowns.append(w)\n",
    "    emb_value = pd.DataFrame(emb_dict).transpose().reset_index()\n",
    "    emb_value = emb_value.rename(columns={'index': \"word\"})\n",
    "    emb_value_list = emb_value.iloc[:, 1:301].mul(freq['inv_rfreq'], axis = 0).sum().to_list()\n",
    "    sen_emb.update({parsed[0][i]['post_id']:emb_value_list})       "
   ]
  },
  {
   "cell_type": "code",
   "execution_count": 49,
   "metadata": {
    "collapsed": true
   },
   "outputs": [],
   "source": [
    "with open('sample1000_emb.pickle', 'wb') as handle:\n",
    "    pickle.dump(sen_emb, handle, protocol=pickle.HIGHEST_PROTOCOL)"
   ]
  },
  {
   "cell_type": "markdown",
   "metadata": {},
   "source": [
    "## Calculate Pairewise Cosine Similarity "
   ]
  },
  {
   "cell_type": "code",
   "execution_count": 63,
   "metadata": {
    "collapsed": true
   },
   "outputs": [],
   "source": [
    "sen_emb_arr = np.array(list(sen_emb.values()))"
   ]
  },
  {
   "cell_type": "code",
   "execution_count": 66,
   "metadata": {
    "collapsed": true
   },
   "outputs": [],
   "source": [
    "sim_mat = cosine_similarity(sen_emb_arr,sen_emb_arr)"
   ]
  },
  {
   "cell_type": "code",
   "execution_count": 67,
   "metadata": {},
   "outputs": [
    {
     "data": {
      "text/plain": [
       "array([[1.        , 0.88455658, 0.79086206, ..., 0.86600266, 0.85997844,\n",
       "        0.82656023],\n",
       "       [0.88455658, 1.        , 0.86886817, ..., 0.92437809, 0.9194565 ,\n",
       "        0.94120198],\n",
       "       [0.79086206, 0.86886817, 1.        , ..., 0.83108216, 0.83927445,\n",
       "        0.84625584],\n",
       "       ...,\n",
       "       [0.86600266, 0.92437809, 0.83108216, ..., 1.        , 0.89908772,\n",
       "        0.86744328],\n",
       "       [0.85997844, 0.9194565 , 0.83927445, ..., 0.89908772, 1.        ,\n",
       "        0.90656519],\n",
       "       [0.82656023, 0.94120198, 0.84625584, ..., 0.86744328, 0.90656519,\n",
       "        1.        ]])"
      ]
     },
     "execution_count": 67,
     "metadata": {},
     "output_type": "execute_result"
    }
   ],
   "source": [
    "sim_mat"
   ]
  },
  {
   "cell_type": "code",
   "execution_count": null,
   "metadata": {
    "collapsed": true
   },
   "outputs": [],
   "source": []
  }
 ],
 "metadata": {
  "kernelspec": {
   "display_name": "Python [conda root]",
   "language": "python",
   "name": "conda-root-py"
  },
  "language_info": {
   "codemirror_mode": {
    "name": "ipython",
    "version": 3
   },
   "file_extension": ".py",
   "mimetype": "text/x-python",
   "name": "python",
   "nbconvert_exporter": "python",
   "pygments_lexer": "ipython3",
   "version": "3.5.3"
  },
  "varInspector": {
   "cols": {
    "lenName": 16,
    "lenType": 16,
    "lenVar": 40
   },
   "kernels_config": {
    "python": {
     "delete_cmd_postfix": "",
     "delete_cmd_prefix": "del ",
     "library": "var_list.py",
     "varRefreshCmd": "print(var_dic_list())"
    },
    "r": {
     "delete_cmd_postfix": ") ",
     "delete_cmd_prefix": "rm(",
     "library": "var_list.r",
     "varRefreshCmd": "cat(var_dic_list()) "
    }
   },
   "types_to_exclude": [
    "module",
    "function",
    "builtin_function_or_method",
    "instance",
    "_Feature"
   ],
   "window_display": false
  }
 },
 "nbformat": 4,
 "nbformat_minor": 2
}
