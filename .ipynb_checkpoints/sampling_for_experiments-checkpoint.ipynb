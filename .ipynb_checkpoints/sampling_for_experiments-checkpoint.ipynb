{
 "cells": [
  {
   "cell_type": "code",
   "execution_count": 1,
   "metadata": {},
   "outputs": [],
   "source": [
    "import pandas as pd"
   ]
  },
  {
   "cell_type": "code",
   "execution_count": 2,
   "metadata": {},
   "outputs": [
    {
     "name": "stderr",
     "output_type": "stream",
     "text": [
      "C:\\Users\\xyn94\\.conda\\envs\\test\\lib\\site-packages\\IPython\\core\\interactiveshell.py:3062: DtypeWarning: Columns (2,3,4,8,11,13,15,16,17,18,19,21,22,30,38,41,42,44,47,48,50,51,74,75,87,89,94,117,119,123) have mixed types.Specify dtype option on import or set low_memory=False.\n",
      "  has_raised = await self.run_ast_nodes(code_ast.body, cell_name,\n"
     ]
    }
   ],
   "source": [
    "all = pd.read_csv('data/final_proj_data_preprocessed.csv')"
   ]
  },
  {
   "cell_type": "code",
   "execution_count": null,
   "metadata": {},
   "outputs": [],
   "source": [
    "d_all = all[['id', 'author', 'title', 'selftext']]"
   ]
  },
  {
   "cell_type": "code",
   "execution_count": null,
   "metadata": {},
   "outputs": [],
   "source": [
    "d_2200 = d_all.sample(2200)\n",
    "d_2200.to_csv('data_sample_2200.csv')"
   ]
  },
  {
   "cell_type": "code",
   "execution_count": null,
   "metadata": {},
   "outputs": [],
   "source": [
    "d_4400 = d_all.sample(4400)\n",
    "d_4400.to_csv('data_sample_4400.csv')"
   ]
  },
  {
   "cell_type": "code",
   "execution_count": null,
   "metadata": {},
   "outputs": [],
   "source": [
    "d_8800 = d_all.sample(8800)\n",
    "d_8800.to_csv('data_sample_8800.csv')"
   ]
  },
  {
   "cell_type": "code",
   "execution_count": null,
   "metadata": {},
   "outputs": [],
   "source": [
    "d_13200 = d_all.sample(13200)\n",
    "d_13200.to_csv('data_sample_13200.csv')"
   ]
  },
  {
   "cell_type": "code",
   "execution_count": null,
   "metadata": {},
   "outputs": [],
   "source": [
    "def csv_to_dict(csv_file):\n",
    "    d = pd.read_csv(csv_file)\n",
    "    size = len(d)\n",
    "    author = d.author.to_list( )\n",
    "    post_id = d.id.to_list( )\n",
    "    text = d.selftext.to_list( )\n",
    "    title = d.title.to_list( )\n",
    "    data = dict(zip(post_id,zip(title, text)))\n",
    "    file_name = 'data/bert_title_text%d.pickle' %size\n",
    "    with open(file_name, 'wb') as handle:\n",
    "        pickle.dump(data,handle)\n"
   ]
  },
  {
   "cell_type": "code",
   "execution_count": null,
   "metadata": {},
   "outputs": [],
   "source": [
    "for s in [2200,4400,8800,13200]:\n",
    "    csv_file = 'data_sample_%d.csv' %s\n",
    "    csv_to_dict(csv_file)"
   ]
  }
 ],
 "metadata": {
  "kernelspec": {
   "display_name": "Python 3",
   "language": "python",
   "name": "python3"
  },
  "language_info": {
   "codemirror_mode": {
    "name": "ipython",
    "version": 3
   },
   "file_extension": ".py",
   "mimetype": "text/x-python",
   "name": "python",
   "nbconvert_exporter": "python",
   "pygments_lexer": "ipython3",
   "version": "3.7.6"
  }
 },
 "nbformat": 4,
 "nbformat_minor": 4
}
