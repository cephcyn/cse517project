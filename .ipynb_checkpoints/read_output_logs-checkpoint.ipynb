{
 "cells": [
  {
   "cell_type": "code",
   "execution_count": null,
   "metadata": {},
   "outputs": [],
   "source": [
    "# Print out the experiment scores\n",
    "\n",
    "import pickle\n",
    "\n",
    "with open(f'outputs/sample1000_scores_20200311-215846_addbert.pickle', 'rb') as handle:\n",
    "    scores = pickle.load(handle)\n",
    "\n",
    "# change to:\n",
    "# 0: {'sas', 'jaccard'}\n",
    "# 1: {'bert', top_tfidf', 'top_bow', 'w2v_weighted', 'w2v_sif'}\n",
    "for i in scores['sas']['bert']:\n",
    "    print(i)"
   ]
  },
  {
   "cell_type": "code",
   "execution_count": null,
   "metadata": {},
   "outputs": [],
   "source": [
    "# Print out the experiment runtimes\n",
    "\n",
    "import pickle\n",
    "\n",
    "with open('outputs/sample1000_times_addbert.txt') as f:\n",
    "    curr_func = ''\n",
    "    for line in f:\n",
    "        if line.startswith('clust_'):\n",
    "            curr_func = line.strip()\n",
    "        if line.startswith('scrape_'):\n",
    "            curr_func = line.strip()\n",
    "        if line.startswith('sample_'):\n",
    "            curr_func = line.strip()\n",
    "        if line.startswith('score_'):\n",
    "            curr_func = line.strip()\n",
    "        if line.startswith('parse_'):\n",
    "            curr_func = line.strip()\n",
    "        if line.startswith('embed_'):\n",
    "            curr_func = line.strip()\n",
    "        if line.startswith('PROCESS TIME ELAPSED (s)'):\n",
    "            time_elapsed = line.strip()[25:]\n",
    "            print(f'{curr_func}\\t{time_elapsed}')"
   ]
  },
  {
   "cell_type": "code",
   "execution_count": null,
   "metadata": {},
   "outputs": [],
   "source": []
  }
 ],
 "metadata": {
  "kernelspec": {
   "display_name": "Python 3",
   "language": "python",
   "name": "python3"
  },
  "language_info": {
   "codemirror_mode": {
    "name": "ipython",
    "version": 3
   },
   "file_extension": ".py",
   "mimetype": "text/x-python",
   "name": "python",
   "nbconvert_exporter": "python",
   "pygments_lexer": "ipython3",
   "version": "3.7.6"
  }
 },
 "nbformat": 4,
 "nbformat_minor": 4
}
