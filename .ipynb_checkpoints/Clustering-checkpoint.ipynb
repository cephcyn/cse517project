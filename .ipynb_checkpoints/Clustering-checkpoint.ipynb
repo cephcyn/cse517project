{
 "cells": [
  {
   "cell_type": "code",
   "execution_count": 1,
   "metadata": {
    "collapsed": true
   },
   "outputs": [],
   "source": [
    "import pickle"
   ]
  },
  {
   "cell_type": "code",
   "execution_count": 2,
   "metadata": {
    "collapsed": true
   },
   "outputs": [],
   "source": [
    "import random"
   ]
  },
  {
   "cell_type": "code",
   "execution_count": 3,
   "metadata": {
    "collapsed": true
   },
   "outputs": [],
   "source": [
    "import numpy as np\n",
    "from sklearn.metrics.pairwise import cosine_similarity"
   ]
  },
  {
   "cell_type": "code",
   "execution_count": 4,
   "metadata": {
    "collapsed": true
   },
   "outputs": [],
   "source": [
    "import pandas as pd"
   ]
  },
  {
   "cell_type": "code",
   "execution_count": 5,
   "metadata": {
    "collapsed": true
   },
   "outputs": [],
   "source": [
    "with open('sample1000_emb.pickle', 'rb') as handle:\n",
    "    sen_emb = pickle.load(handle)"
   ]
  },
  {
   "cell_type": "code",
   "execution_count": 6,
   "metadata": {
    "collapsed": true
   },
   "outputs": [],
   "source": [
    "d = pd.DataFrame(sen_emb).transpose()\n",
    "sim_mat = cosine_similarity(d)"
   ]
  },
  {
   "cell_type": "code",
   "execution_count": 7,
   "metadata": {
    "collapsed": true
   },
   "outputs": [],
   "source": [
    "post = d.index.to_list()\n",
    "post_emb = dict(zip(post, sim_mat))"
   ]
  },
  {
   "cell_type": "code",
   "execution_count": 13,
   "metadata": {},
   "outputs": [],
   "source": [
    "def Similarity_clustering(similarity_dict, m, n):\n",
    "    clusters = {};\n",
    "    unselected_posts = similarity_dict.copy()\n",
    "    post_keys = list(unselected_posts.keys())\n",
    "    unselected_keys = list(unselected_posts.keys())\n",
    "    while len(unselected_posts) != 0:\n",
    "        selected_post =  random.choice(unselected_keys)\n",
    "        emb_dict = dict(zip(post_keys,unselected_posts[selected_post]))\n",
    "        #sim_sort = [emb_dict[key] for key in unselected_keys]\n",
    "        sim = {k: emb_dict[k] for k in unselected_keys}\n",
    "        sim_sort = [k for k in sorted(sim.items(), key=lambda item: item[1])]\n",
    "        sim_most = sim_sort[0:int(np.floor(n/m))]\n",
    "        clusters[selected_post] = sim_most\n",
    "        [unselected_posts.pop(p, None) for p in sim_most]\n",
    "        unselected_keys = list(unselected_posts.keys())\n",
    "    return(clusters)"
   ]
  },
  {
   "cell_type": "code",
   "execution_count": null,
   "metadata": {},
   "outputs": [],
   "source": [
    "Similarity_clustering(post_emb, 2, 1000)"
   ]
  },
  {
   "cell_type": "code",
   "execution_count": null,
   "metadata": {
    "collapsed": true
   },
   "outputs": [],
   "source": []
  }
 ],
 "metadata": {
  "kernelspec": {
   "display_name": "Python [conda root]",
   "language": "python",
   "name": "conda-root-py"
  },
  "language_info": {
   "codemirror_mode": {
    "name": "ipython",
    "version": 3
   },
   "file_extension": ".py",
   "mimetype": "text/x-python",
   "name": "python",
   "nbconvert_exporter": "python",
   "pygments_lexer": "ipython3",
   "version": "3.5.3"
  },
  "varInspector": {
   "cols": {
    "lenName": 16,
    "lenType": 16,
    "lenVar": 40
   },
   "kernels_config": {
    "python": {
     "delete_cmd_postfix": "",
     "delete_cmd_prefix": "del ",
     "library": "var_list.py",
     "varRefreshCmd": "print(var_dic_list())"
    },
    "r": {
     "delete_cmd_postfix": ") ",
     "delete_cmd_prefix": "rm(",
     "library": "var_list.r",
     "varRefreshCmd": "cat(var_dic_list()) "
    }
   },
   "types_to_exclude": [
    "module",
    "function",
    "builtin_function_or_method",
    "instance",
    "_Feature"
   ],
   "window_display": false
  }
 },
 "nbformat": 4,
 "nbformat_minor": 2
}
