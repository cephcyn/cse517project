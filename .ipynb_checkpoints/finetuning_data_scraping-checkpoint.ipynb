{
 "cells": [
  {
   "cell_type": "code",
   "execution_count": 1,
   "metadata": {
    "collapsed": true
   },
   "outputs": [],
   "source": [
    "import urllib.request, json \n",
    "import pandas as pd\n",
    "from pandas.io.json import json_normalize\n",
    "import matplotlib.pyplot as plt\n",
    "import numpy as np\n",
    "import pickle"
   ]
  },
  {
   "cell_type": "code",
   "execution_count": 41,
   "metadata": {
    "collapsed": true
   },
   "outputs": [],
   "source": [
    "subs = ['depression', 'relationship_advice', 'offmychest',\n",
    "'IAmA', 'needadvice', 'tifu', 'confessions', 'confession',\n",
    "'TrueOffMyChest', 'confidence', 'socialanxiety', 'Anxiety',\n",
    "'socialskills']"
   ]
  },
  {
   "cell_type": "code",
   "execution_count": null,
   "metadata": {},
   "outputs": [
    {
     "name": "stdout",
     "output_type": "stream",
     "text": [
      "*********\n",
      "depression\n"
     ]
    }
   ],
   "source": [
    "for sub in subs:\n",
    "    print('*********')\n",
    "    print(sub)\n",
    "    sub_url = 'https://api.pushshift.io/reddit/search/submission/?subreddit=%s'%sub\n",
    "    \n",
    "    #scrape data before 01/01/2020\n",
    "    #limit size is 100 now :/\n",
    "    with urllib.request.urlopen(sub_url+\"&size=100&sort=desc&before=1577923199\") as url:\n",
    "        data = json.loads(url.read().decode())\n",
    "    data = data['data']\n",
    "    df_sub = pd.DataFrame.from_dict(json_normalize(data), orient='columns')\n",
    "    created_utc_now_sub = df_sub['created_utc'].values[-1]\n",
    "    while df_sub.shape[0] < 25001:\n",
    "        final_url = sub_url+\"&size=100&sort=desc&before=%d\"%created_utc_now_sub\n",
    "        with urllib.request.urlopen(final_url) as url:\n",
    "            data = json.loads(url.read().decode())\n",
    "        data = data['data']\n",
    "        if len(data) == 0:\n",
    "            break\n",
    "        df_new_sub = pd.DataFrame.from_dict(json_normalize(data), orient='columns')\n",
    "        df_sub = df_sub.append(df_new_sub) \n",
    "        created_utc_now_sub = df_sub['created_utc'].values[-1]\n",
    "        if df_sub.shape[0]%5000 == 0:\n",
    "            print(created_utc_now_sub)\n",
    "            print(df_sub.shape)\n",
    "    \n",
    "    df_sub.to_csv('finetuning_data_pre_covid/expanded_%s_preprocessed.csv' %sub)\n",
    "#    with open('df_sub_%s.pickle'%sub, 'wb') as handle:\n",
    "#       pickle.dump(df_sub, handle) "
   ]
  },
  {
   "cell_type": "code",
   "execution_count": null,
   "metadata": {
    "collapsed": true
   },
   "outputs": [],
   "source": []
  }
 ],
 "metadata": {
  "kernelspec": {
   "display_name": "Python [conda root]",
   "language": "python",
   "name": "conda-root-py"
  },
  "language_info": {
   "codemirror_mode": {
    "name": "ipython",
    "version": 3
   },
   "file_extension": ".py",
   "mimetype": "text/x-python",
   "name": "python",
   "nbconvert_exporter": "python",
   "pygments_lexer": "ipython3",
   "version": "3.5.6"
  },
  "varInspector": {
   "cols": {
    "lenName": 16,
    "lenType": 16,
    "lenVar": 40
   },
   "kernels_config": {
    "python": {
     "delete_cmd_postfix": "",
     "delete_cmd_prefix": "del ",
     "library": "var_list.py",
     "varRefreshCmd": "print(var_dic_list())"
    },
    "r": {
     "delete_cmd_postfix": ") ",
     "delete_cmd_prefix": "rm(",
     "library": "var_list.r",
     "varRefreshCmd": "cat(var_dic_list()) "
    }
   },
   "types_to_exclude": [
    "module",
    "function",
    "builtin_function_or_method",
    "instance",
    "_Feature"
   ],
   "window_display": false
  }
 },
 "nbformat": 4,
 "nbformat_minor": 2
}
