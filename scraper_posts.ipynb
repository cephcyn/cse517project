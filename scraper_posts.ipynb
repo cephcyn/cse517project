{
 "cells": [
  {
   "cell_type": "code",
   "execution_count": null,
   "metadata": {},
   "outputs": [],
   "source": [
    "import urllib.request, json \n",
    "import pandas as pd\n",
    "from pandas.io.json import json_normalize\n",
    "import matplotlib.pyplot as plt\n",
    "import numpy as np"
   ]
  },
  {
   "cell_type": "code",
   "execution_count": null,
   "metadata": {},
   "outputs": [],
   "source": [
    "import datetime\n",
    "import time"
   ]
  },
  {
   "cell_type": "code",
   "execution_count": null,
   "metadata": {},
   "outputs": [],
   "source": [
    "#get data before 01/01/2020\n",
    "with urllib.request.urlopen(\"https://api.pushshift.io/reddit/search/submission/?subreddit=Advice&size=100&sort=desc&before=1577923199\") as url:\n",
    "    data = json.loads(url.read().decode())\n",
    "data = data['data']\n",
    "df_sub = pd.DataFrame.from_dict(json_normalize(data), orient='columns')\n",
    "created_utc_now_sub = df_sub['created_utc'].values[-1]"
   ]
  },
  {
   "cell_type": "code",
   "execution_count": null,
   "metadata": {},
   "outputs": [],
   "source": [
    "#get data after 01/01/2018\n",
    "while created_utc_now_sub > 1514851199:\n",
    "    time.sleep(0.05)\n",
    "    with urllib.request.urlopen(\"https://api.pushshift.io/reddit/search/submission/?subreddit=Advice&size=100&sort=desc&before=%d\"%created_utc_now_sub) as url:\n",
    "        data = json.loads(url.read().decode())\n",
    "    data = data['data']\n",
    "    df_new_sub = pd.DataFrame.from_dict(json_normalize(data), orient='columns')\n",
    "    df_sub = df_sub.append(df_new_sub) \n",
    "    created_utc_now_sub = df_sub['created_utc'].values[-1]\n",
    "    if df_sub.shape[0]%5000 == 0:\n",
    "        print(datetime.datetime.fromtimestamp(created_utc_now_sub).strftime('%c'))\n",
    "        print(df_sub.shape)"
   ]
  },
  {
   "cell_type": "code",
   "execution_count": null,
   "metadata": {},
   "outputs": [],
   "source": [
    "df_sub.to_csv('training_data_pre_covid.csv')"
   ]
  },
  {
   "cell_type": "code",
   "execution_count": null,
   "metadata": {},
   "outputs": [],
   "source": []
  }
 ],
 "metadata": {
  "kernelspec": {
   "display_name": "Python 3",
   "language": "python",
   "name": "python3"
  },
  "language_info": {
   "codemirror_mode": {
    "name": "ipython",
    "version": 3
   },
   "file_extension": ".py",
   "mimetype": "text/x-python",
   "name": "python",
   "nbconvert_exporter": "python",
   "pygments_lexer": "ipython3",
   "version": "3.8.0"
  },
  "varInspector": {
   "cols": {
    "lenName": 16,
    "lenType": 16,
    "lenVar": 40
   },
   "kernels_config": {
    "python": {
     "delete_cmd_postfix": "",
     "delete_cmd_prefix": "del ",
     "library": "var_list.py",
     "varRefreshCmd": "print(var_dic_list())"
    },
    "r": {
     "delete_cmd_postfix": ") ",
     "delete_cmd_prefix": "rm(",
     "library": "var_list.r",
     "varRefreshCmd": "cat(var_dic_list()) "
    }
   },
   "types_to_exclude": [
    "module",
    "function",
    "builtin_function_or_method",
    "instance",
    "_Feature"
   ],
   "window_display": false
  }
 },
 "nbformat": 4,
 "nbformat_minor": 2
}
