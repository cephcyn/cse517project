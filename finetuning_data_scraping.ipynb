{
 "cells": [
  {
   "cell_type": "code",
   "execution_count": 6,
   "metadata": {
    "collapsed": true
   },
   "outputs": [],
   "source": [
    "import urllib.request, json \n",
    "import pandas as pd\n",
    "from pandas.io.json import json_normalize\n",
    "import matplotlib.pyplot as plt\n",
    "import numpy as np\n",
    "import pickle"
   ]
  },
  {
   "cell_type": "code",
   "execution_count": 7,
   "metadata": {
    "collapsed": true
   },
   "outputs": [],
   "source": [
    "subs = ['depression', 'relationship_advice', 'offmychest',\n",
    "'IAmA', 'needadvice', 'tifu', 'confessions']"
   ]
  },
  {
   "cell_type": "code",
   "execution_count": null,
   "metadata": {
    "collapsed": true
   },
   "outputs": [],
   "source": [
    "for sub in subs:\n",
    "    print('*********')\n",
    "    print(sub)\n",
    "    sub_url = 'https://api.pushshift.io/reddit/search/submission/?subreddit=%s'%sub\n",
    "    with urllib.request.urlopen(sub_url+\"&size=1000&sort=desc&before=30d\") as url:\n",
    "        data = json.loads(url.read().decode())\n",
    "    data = data['data']\n",
    "    df_sub = pd.DataFrame.from_dict(json_normalize(data), orient='columns')\n",
    "    created_utc_now_sub = df_sub.tail(1)['created_utc']\n",
    "    while df_sub.shape[0] < 25000:\n",
    "        final_url = sub_url+\"&size=1000&sort=desc&before=%d\"%df_sub.tail(1)['created_utc']  \n",
    "        with urllib.request.urlopen(final_url) as url:\n",
    "            data = json.loads(url.read().decode())\n",
    "        data = data['data']\n",
    "        df_new_sub = pd.DataFrame.from_dict(json_normalize(data), orient='columns')\n",
    "        df_sub = df_sub.append(df_new_sub) \n",
    "        created_utc_now_sub = df_sub.tail(1)['created_utc']\n",
    "        if df_sub.shape[0]%5000 == 0:\n",
    "            print(created_utc_now_sub)\n",
    "            print(df_sub.shape)\n",
    "    \n",
    "    df_sub.to_csv('expanded_%s_preprocessed.csv' %sub)\n",
    "#    with open('df_sub_%s.pickle'%sub, 'wb') as handle:\n",
    "#       pickle.dump(df_sub, handle) "
   ]
  }
 ],
 "metadata": {
  "kernelspec": {
   "display_name": "Python [conda root]",
   "language": "python",
   "name": "conda-root-py"
  },
  "language_info": {
   "codemirror_mode": {
    "name": "ipython",
    "version": 3
   },
   "file_extension": ".py",
   "mimetype": "text/x-python",
   "name": "python",
   "nbconvert_exporter": "python",
   "pygments_lexer": "ipython3",
   "version": "3.5.6"
  },
  "varInspector": {
   "cols": {
    "lenName": 16,
    "lenType": 16,
    "lenVar": 40
   },
   "kernels_config": {
    "python": {
     "delete_cmd_postfix": "",
     "delete_cmd_prefix": "del ",
     "library": "var_list.py",
     "varRefreshCmd": "print(var_dic_list())"
    },
    "r": {
     "delete_cmd_postfix": ") ",
     "delete_cmd_prefix": "rm(",
     "library": "var_list.r",
     "varRefreshCmd": "cat(var_dic_list()) "
    }
   },
   "types_to_exclude": [
    "module",
    "function",
    "builtin_function_or_method",
    "instance",
    "_Feature"
   ],
   "window_display": false
  }
 },
 "nbformat": 4,
 "nbformat_minor": 2
}
