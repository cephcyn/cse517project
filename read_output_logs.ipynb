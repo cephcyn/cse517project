{
 "cells": [
  {
   "cell_type": "code",
   "execution_count": null,
   "metadata": {},
   "outputs": [],
   "source": [
    "# Print out the experiment scores\n",
    "\n",
    "import pickle\n",
    "import pandas as pd\n",
    "\n",
    "with open(f'outputs/1000_scores.pickle', 'rb') as handle:\n",
    "    scores = pickle.load(handle)\n",
    "\n",
    "# scores levels:\n",
    "# 0: {'sas', 'jaccard'}\n",
    "# 1: {'bert', top_tfidf', 'top_bow', 'w2v_weighted', 'w2v_sif'}\n",
    "\n",
    "df_scores = pd.DataFrame(columns=[\n",
    "    'sas(bert)',\n",
    "    'sas(top_tfidf)',\n",
    "    'sas(top_bow)',\n",
    "    'sas(w2v_weighted)',\n",
    "    'sas(w2v_sif)',\n",
    "    'jaccard(bert)',\n",
    "    'jaccard(top_tfidf)',\n",
    "    'jaccard(top_bow)',\n",
    "    'jaccard(w2v_weighted)',\n",
    "    'jaccard(w2v_sif)'\n",
    "])\n",
    "# There should be an equal number of elems in each score list...\n",
    "for i in range(len(scores['sas']['bert'])):\n",
    "    # build the row\n",
    "    row = {}\n",
    "    for score_type in ['sas', 'jaccard']:\n",
    "        for model_type in ['bert', 'top_tfidf', 'top_bow', 'w2v_weighted', 'w2v_sif']:\n",
    "            row[f'{score_type}({model_type})'] = scores[score_type][model_type][i]\n",
    "    df_scores = df_scores.append(row, ignore_index=True)\n",
    "    \n",
    "df_scores.to_csv(f'outputs/1000_scores.csv')"
   ]
  },
  {
   "cell_type": "code",
   "execution_count": null,
   "metadata": {},
   "outputs": [],
   "source": [
    "# Print out the experiment runtimes\n",
    "\n",
    "import pickle\n",
    "import pandas as pd\n",
    "\n",
    "df_times = pd.DataFrame(columns=[\n",
    "    'func_name',\n",
    "    'time_elapsed(s)'\n",
    "])\n",
    "    \n",
    "with open('outputs/1000_log.txt') as f:\n",
    "    for line in f:\n",
    "        if 'ELAPSED(s)' in line:\n",
    "            line = line.strip()\n",
    "            pieces = line.split('ELAPSED(s)')\n",
    "            curr_func = pieces[0]\n",
    "            time_elapsed = pieces[1]\n",
    "            df_times = df_times.append({\n",
    "                'func_name': curr_func,\n",
    "                'time_elapsed(s)': time_elapsed\n",
    "            }, ignore_index=True)\n",
    "\n",
    "df_times.to_csv(f'outputs/1000_times.csv')"
   ]
  },
  {
   "cell_type": "code",
   "execution_count": null,
   "metadata": {},
   "outputs": [],
   "source": []
  }
 ],
 "metadata": {
  "kernelspec": {
   "display_name": "Python 3",
   "language": "python",
   "name": "python3"
  },
  "language_info": {
   "codemirror_mode": {
    "name": "ipython",
    "version": 3
   },
   "file_extension": ".py",
   "mimetype": "text/x-python",
   "name": "python",
   "nbconvert_exporter": "python",
   "pygments_lexer": "ipython3",
   "version": "3.7.6"
  }
 },
 "nbformat": 4,
 "nbformat_minor": 4
}
