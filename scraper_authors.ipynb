{
 "cells": [
  {
   "cell_type": "code",
   "execution_count": 1,
   "metadata": {},
   "outputs": [],
   "source": [
    "import urllib.request, json\n",
    "import pandas as pd\n",
    "from pandas.io.json import json_normalize\n",
    "import numpy as np\n",
    "import json\n",
    "import time"
   ]
  },
  {
   "cell_type": "code",
   "execution_count": 2,
   "metadata": {},
   "outputs": [],
   "source": [
    "# import argparse\n",
    "\n",
    "# parser = argparse.ArgumentParser()\n",
    "# parser.add_argument(\"--csv_file_name\", required=True, help=\"Filename of the Reddit-scrape-data CSV we want author data for\")\n",
    "# parser.add_argument(\"--output\", required=False, default='data/authorsubs.json', help=\"Filename to save to\")\n",
    "# args = parser.parse_args()\n",
    "# print(' reading from:', args.csv_file_name)\n",
    "# print('outputting to:', args.output)\n",
    "\n",
    "# df_posts = pd.read_csv(args.csv_file_name)"
   ]
  },
  {
   "cell_type": "code",
   "execution_count": 4,
   "metadata": {},
   "outputs": [],
   "source": [
    "def getAllType(username, contentType):\n",
    "    n_posts = 500\n",
    "    with urllib.request.urlopen(f\"https://api.pushshift.io/reddit/search/{contentType}/?author={username}&sort=asc&size={n_posts}\") as url:\n",
    "        data = json.loads(url.read().decode())\n",
    "        data = data['data']\n",
    "    df_content = pd.DataFrame.from_dict(json_normalize(data), orient='columns')\n",
    "    if len(df_content) == 0:\n",
    "        return df_content\n",
    "    created_utc_last = df_content.tail(1)['created_utc'].copy().reset_index()\n",
    "    created_utc_last = created_utc_last['created_utc'][0]\n",
    "    while len(data) > 0:\n",
    "        with urllib.request.urlopen(f\"https://api.pushshift.io/reddit/search/{contentType}/?author={username}&sort=asc&size={n_posts}&after={created_utc_last}\") as url:\n",
    "            data = json.loads(url.read().decode())\n",
    "            data = data['data']\n",
    "        df_content = df_content.append(pd.DataFrame.from_dict(json_normalize(data), orient='columns'))\n",
    "        created_utc_last = df_content.tail(1)['created_utc'].copy().reset_index()\n",
    "        created_utc_last = created_utc_last['created_utc'][0]\n",
    "    return df_content"
   ]
  },
  {
   "cell_type": "code",
   "execution_count": 27,
   "metadata": {},
   "outputs": [],
   "source": [
    "version = '2200'\n",
    "df_posts = pd.read_csv(f'data/data_sample_{version}.csv')"
   ]
  },
  {
   "cell_type": "code",
   "execution_count": 28,
   "metadata": {
    "scrolled": true
   },
   "outputs": [
    {
     "name": "stdout",
     "output_type": "stream",
     "text": [
      "2066\n"
     ]
    }
   ],
   "source": [
    "output = f'data/authorsubs_{version}.json'\n",
    "\n",
    "# Build subreddit mappings\n",
    "with open(output, 'r') as fp:\n",
    "    sub_mappings = json.load(fp)\n",
    "\n",
    "print(len(sub_mappings))"
   ]
  },
  {
   "cell_type": "code",
   "execution_count": 29,
   "metadata": {},
   "outputs": [
    {
     "name": "stdout",
     "output_type": "stream",
     "text": [
      "2169\n"
     ]
    }
   ],
   "source": [
    "print(len(set(df_posts['author'])))"
   ]
  },
  {
   "cell_type": "code",
   "execution_count": null,
   "metadata": {},
   "outputs": [],
   "source": [
    "for username in set(df_posts['author']):\n",
    "    with open(args.output, 'r') as fp:\n",
    "        sub_mappings = json.load(fp)\n",
    "    try:\n",
    "        if username not in sub_mappings:\n",
    "            df_comment = getAllType(username, 'comment').reset_index()\n",
    "            df_submission = getAllType(username, 'submission').reset_index()\n",
    "            df_comment_set = list(set(df_comment['subreddit'])) if len(df_comment) > 0 else []\n",
    "            df_submission_set = list(set(df_submission['subreddit'])) if len(df_submission) > 0 else []\n",
    "            sub_mappings[username] = {\n",
    "                'comment': df_comment_set,\n",
    "                'submission': df_submission_set\n",
    "            }\n",
    "    except:\n",
    "        print('failed to read', username)\n",
    "    finally:\n",
    "        # save what we have so far if the last read attempt failed\n",
    "        with open(args.output, 'w') as fp:\n",
    "            json.dump(sub_mappings, fp)\n",
    "        \n",
    "#     print('got subreddits for', username)\n",
    "\n",
    "print('PROCESS TIME ELAPSED (s)', time.process_time() - t0)\n",
    "\n",
    "with open(args.output, 'w') as fp:\n",
    "    json.dump(sub_mappings, fp)"
   ]
  },
  {
   "cell_type": "code",
   "execution_count": null,
   "metadata": {},
   "outputs": [],
   "source": [
    "print(set(df_submission['subreddit']))"
   ]
  },
  {
   "cell_type": "markdown",
   "metadata": {},
   "source": [
    "## Try with PRAW"
   ]
  },
  {
   "cell_type": "code",
   "execution_count": 32,
   "metadata": {},
   "outputs": [],
   "source": [
    "import praw\n",
    "\n",
    "reddit = praw.Reddit(client_id='Gq7arWbRvOEjRA',\n",
    "                     client_secret='gyOeWVPNJUGuynTbHWPqQ3xJIJw',\n",
    "                     user_agent='testscript by /u/AurigaCorvus',\n",
    "                     username='AurigaCorvus',\n",
    "                     password='dachytilioso391')"
   ]
  },
  {
   "cell_type": "code",
   "execution_count": 54,
   "metadata": {},
   "outputs": [],
   "source": [
    "from praw.models import User, ListingGenerator\n",
    "\n",
    "# print(reddit.user.me())\n",
    "person = reddit.redditor('AurigaCorvus')\n",
    "contribs = User.karma(person)"
   ]
  },
  {
   "cell_type": "code",
   "execution_count": 59,
   "metadata": {},
   "outputs": [
    {
     "name": "stdout",
     "output_type": "stream",
     "text": [
      "{Subreddit(display_name='LifeProTips'): {'comment_karma': 139, 'link_karma': 1}, Subreddit(display_name='AsianParentStories'): {'comment_karma': 23, 'link_karma': 51}, Subreddit(display_name='fountainpens'): {'comment_karma': 8, 'link_karma': 50}, Subreddit(display_name='gradadmissions'): {'comment_karma': 2, 'link_karma': 41}, Subreddit(display_name='asexuality'): {'comment_karma': 27, 'link_karma': 1}, Subreddit(display_name='TwoXChromosomes'): {'comment_karma': 21, 'link_karma': 1}, Subreddit(display_name='discordapp'): {'comment_karma': 19, 'link_karma': 1}, Subreddit(display_name='traaaaaaannnnnnnnnns'): {'comment_karma': 10, 'link_karma': 1}, Subreddit(display_name='forbiddensnacks'): {'comment_karma': 0, 'link_karma': 8}, Subreddit(display_name='vivaldibrowser'): {'comment_karma': 5, 'link_karma': 3}, Subreddit(display_name='whatisthisthing'): {'comment_karma': 3, 'link_karma': 2}, Subreddit(display_name='demisexuality'): {'comment_karma': 5, 'link_karma': 1}, Subreddit(display_name='snoovatars'): {'comment_karma': 0, 'link_karma': 5}, Subreddit(display_name='agender'): {'comment_karma': 4, 'link_karma': 1}, Subreddit(display_name='aaaaaaacccccccce'): {'comment_karma': 3, 'link_karma': 1}, Subreddit(display_name='SeattleWA'): {'comment_karma': 3, 'link_karma': 1}, Subreddit(display_name='AskReddit'): {'comment_karma': 3, 'link_karma': 1}, Subreddit(display_name='udub'): {'comment_karma': 2, 'link_karma': 1}, Subreddit(display_name='AskAcademia'): {'comment_karma': 2, 'link_karma': 1}, Subreddit(display_name='krita'): {'comment_karma': 1, 'link_karma': 1}, Subreddit(display_name='WritingPrompts'): {'comment_karma': 0, 'link_karma': 1}, Subreddit(display_name='Warframe'): {'comment_karma': -4, 'link_karma': 1}}\n"
     ]
    }
   ],
   "source": [
    "print(contribs)"
   ]
  },
  {
   "cell_type": "code",
   "execution_count": 60,
   "metadata": {},
   "outputs": [
    {
     "name": "stdout",
     "output_type": "stream",
     "text": [
      "LifeProTips\n",
      "AsianParentStories\n",
      "fountainpens\n",
      "gradadmissions\n",
      "asexuality\n",
      "TwoXChromosomes\n",
      "discordapp\n",
      "traaaaaaannnnnnnnnns\n",
      "vivaldibrowser\n",
      "whatisthisthing\n",
      "demisexuality\n",
      "agender\n",
      "aaaaaaacccccccce\n",
      "SeattleWA\n",
      "AskReddit\n",
      "udub\n",
      "AskAcademia\n",
      "krita\n",
      "Warframe\n"
     ]
    }
   ],
   "source": [
    "for k in contribs.keys():\n",
    "    print(k.display_name)\n",
    "    if contribs[k]['comment_karma'] is not 0:\n",
    "        print(k.display_name)\n",
    "#     print(k.display_name)"
   ]
  },
  {
   "cell_type": "code",
   "execution_count": null,
   "metadata": {},
   "outputs": [],
   "source": []
  }
 ],
 "metadata": {
  "kernelspec": {
   "display_name": "Python 3",
   "language": "python",
   "name": "python3"
  },
  "language_info": {
   "codemirror_mode": {
    "name": "ipython",
    "version": 3
   },
   "file_extension": ".py",
   "mimetype": "text/x-python",
   "name": "python",
   "nbconvert_exporter": "python",
   "pygments_lexer": "ipython3",
   "version": "3.7.6"
  }
 },
 "nbformat": 4,
 "nbformat_minor": 4
}
