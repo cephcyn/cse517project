{
 "cells": [
  {
   "cell_type": "code",
   "execution_count": null,
   "metadata": {},
   "outputs": [],
   "source": [
    "import urllib.request, json\n",
    "import pandas as pd\n",
    "from pandas.io.json import json_normalize\n",
    "import numpy as np\n",
    "import json\n",
    "import time"
   ]
  },
  {
   "cell_type": "code",
   "execution_count": null,
   "metadata": {},
   "outputs": [],
   "source": [
    "# import argparse\n",
    "\n",
    "# parser = argparse.ArgumentParser()\n",
    "# parser.add_argument(\"--csv_file_name\", required=True, help=\"Filename of the Reddit-scrape-data CSV we want author data for\")\n",
    "# parser.add_argument(\"--output\", required=False, default='data/authorsubs.json', help=\"Filename to save to\")\n",
    "# args = parser.parse_args()\n",
    "# print(' reading from:', args.csv_file_name)\n",
    "# print('outputting to:', args.output)\n",
    "\n",
    "# df_posts = pd.read_csv(args.csv_file_name)"
   ]
  },
  {
   "cell_type": "code",
   "execution_count": null,
   "metadata": {},
   "outputs": [],
   "source": [
    "version = 'preprocessed_1000sample'\n",
    "df_posts = pd.read_csv(f'data/final_proj_data_{version}.csv')"
   ]
  },
  {
   "cell_type": "code",
   "execution_count": null,
   "metadata": {},
   "outputs": [],
   "source": [
    "def getAllType(username, contentType):\n",
    "    n_posts = 500\n",
    "    with urllib.request.urlopen(f\"https://api.pushshift.io/reddit/search/{contentType}/?author={username}&sort=asc&size={n_posts}\") as url:\n",
    "        data = json.loads(url.read().decode())\n",
    "        data = data['data']\n",
    "    df_content = pd.DataFrame.from_dict(json_normalize(data), orient='columns')\n",
    "    if len(df_content) == 0:\n",
    "        return df_content\n",
    "    created_utc_last = df_content.tail(1)['created_utc'].copy().reset_index()\n",
    "    created_utc_last = created_utc_last['created_utc'][0]\n",
    "    while len(data) > 0:\n",
    "        with urllib.request.urlopen(f\"https://api.pushshift.io/reddit/search/{contentType}/?author={username}&sort=asc&size={n_posts}&after={created_utc_last}\") as url:\n",
    "            data = json.loads(url.read().decode())\n",
    "            data = data['data']\n",
    "        df_content = df_content.append(pd.DataFrame.from_dict(json_normalize(data), orient='columns'))\n",
    "        created_utc_last = df_content.tail(1)['created_utc'].copy().reset_index()\n",
    "        created_utc_last = created_utc_last['created_utc'][0]\n",
    "    return df_content"
   ]
  },
  {
   "cell_type": "code",
   "execution_count": null,
   "metadata": {
    "scrolled": true
   },
   "outputs": [],
   "source": [
    "t0 = time.process_time()\n",
    "\n",
    "# Build subreddit mappings\n",
    "sub_mappings = {}\n",
    "\n",
    "for username in set(df_posts['author']):\n",
    "    with open(args.output, 'r') as fp:\n",
    "        sub_mappings = json.load(fp)\n",
    "    try:\n",
    "        if username not in sub_mappings:\n",
    "            df_comment = getAllType(username, 'comment').reset_index()\n",
    "            df_submission = getAllType(username, 'submission').reset_index()\n",
    "            df_comment_set = list(set(df_comment['subreddit'])) if len(df_comment) > 0 else []\n",
    "            df_submission_set = list(set(df_submission['subreddit'])) if len(df_submission) > 0 else []\n",
    "            sub_mappings[username] = {\n",
    "                'comment': df_comment_set,\n",
    "                'submission': df_submission_set\n",
    "            }\n",
    "    except:\n",
    "        print('failed to read', username)\n",
    "    finally:\n",
    "        # save what we have so far if the last read attempt failed\n",
    "        with open(args.output, 'w') as fp:\n",
    "            json.dump(sub_mappings, fp)\n",
    "        \n",
    "#     print('got subreddits for', username)\n",
    "\n",
    "print('PROCESS TIME ELAPSED (s)', time.process_time() - t0)\n",
    "\n",
    "with open(args.output, 'w') as fp:\n",
    "    json.dump(sub_mappings, fp)"
   ]
  },
  {
   "cell_type": "code",
   "execution_count": null,
   "metadata": {},
   "outputs": [],
   "source": [
    "print(set(df_submission['subreddit']))"
   ]
  },
  {
   "cell_type": "code",
   "execution_count": null,
   "metadata": {},
   "outputs": [],
   "source": []
  }
 ],
 "metadata": {
  "kernelspec": {
   "display_name": "Python 3",
   "language": "python",
   "name": "python3"
  },
  "language_info": {
   "codemirror_mode": {
    "name": "ipython",
    "version": 3
   },
   "file_extension": ".py",
   "mimetype": "text/x-python",
   "name": "python",
   "nbconvert_exporter": "python",
   "pygments_lexer": "ipython3",
   "version": "3.7.6"
  }
 },
 "nbformat": 4,
 "nbformat_minor": 4
}
