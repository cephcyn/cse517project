{
 "cells": [
  {
   "cell_type": "code",
   "execution_count": 1,
   "metadata": {
    "collapsed": true
   },
   "outputs": [],
   "source": [
    "import urllib.request, json \n",
    "import pandas as pd\n",
    "from pandas.io.json import json_normalize\n",
    "import matplotlib.pyplot as plt\n",
    "import numpy as np"
   ]
  },
  {
   "cell_type": "code",
   "execution_count": 7,
   "metadata": {},
   "outputs": [
    {
     "name": "stdout",
     "output_type": "stream",
     "text": [
      "0    1247163257\n",
      "Name: created_utc, dtype: int64\n"
     ]
    }
   ],
   "source": [
    "with urllib.request.urlopen(\"https://api.pushshift.io/reddit/search/submission/?subreddit=Advice&size=1&sort=asc&before=30d\") as url:\n",
    "    data = json.loads(url.read().decode())\n",
    "data = data['data']\n",
    "df_sub = pd.DataFrame.from_dict(json_normalize(data), orient='columns')\n",
    "created_utc_first_sub = df_sub.tail(1)['created_utc']\n",
    "print(created_utc_first_sub)"
   ]
  },
  {
   "cell_type": "code",
   "execution_count": 8,
   "metadata": {
    "collapsed": true
   },
   "outputs": [],
   "source": [
    "with urllib.request.urlopen(\"https://api.pushshift.io/reddit/search/submission/?subreddit=Advice&size=1000&sort=desc&before=30d\") as url:\n",
    "    data = json.loads(url.read().decode())\n",
    "data = data['data']\n",
    "df_sub = pd.DataFrame.from_dict(json_normalize(data), orient='columns')\n",
    "created_utc_now_sub = df_sub.tail(1)['created_utc']"
   ]
  },
  {
   "cell_type": "code",
   "execution_count": 9,
   "metadata": {},
   "outputs": [
    {
     "name": "stderr",
     "output_type": "stream",
     "text": [
      "//anaconda/lib/python3.5/site-packages/pandas/core/frame.py:6692: FutureWarning: Sorting because non-concatenation axis is not aligned. A future version\n",
      "of pandas will change to not sort by default.\n",
      "\n",
      "To accept the future behavior, pass 'sort=False'.\n",
      "\n",
      "To retain the current behavior and silence the warning, pass 'sort=True'.\n",
      "\n",
      "  sort=sort)\n"
     ]
    },
    {
     "name": "stdout",
     "output_type": "stream",
     "text": [
      "999    1577515395\n",
      "Name: created_utc, dtype: int64\n",
      "(2000, 69)\n",
      "999    1577422502\n",
      "Name: created_utc, dtype: int64\n",
      "(3000, 69)\n",
      "999    1577327511\n",
      "Name: created_utc, dtype: int64\n",
      "(4000, 69)\n",
      "999    1577224066\n",
      "Name: created_utc, dtype: int64\n",
      "(5000, 69)\n",
      "999    1577122106\n",
      "Name: created_utc, dtype: int64\n",
      "(6000, 69)\n",
      "999    1577024525\n",
      "Name: created_utc, dtype: int64\n",
      "(7000, 69)\n",
      "999    1576918234\n",
      "Name: created_utc, dtype: int64\n",
      "(8000, 69)\n",
      "999    1576816218\n",
      "Name: created_utc, dtype: int64\n",
      "(9000, 69)\n",
      "999    1576726718\n",
      "Name: created_utc, dtype: int64\n",
      "(10000, 69)\n",
      "999    1576637246\n",
      "Name: created_utc, dtype: int64\n",
      "(11000, 69)\n"
     ]
    }
   ],
   "source": [
    "for i in range(10):\n",
    "    with urllib.request.urlopen(\"https://api.pushshift.io/reddit/search/submission/?subreddit=Advice&size=1000&sort=desc&before=%d\"%df_sub.tail(1)['created_utc']) as url:\n",
    "        data = json.loads(url.read().decode())\n",
    "    data = data['data']\n",
    "    df_new_sub = pd.DataFrame.from_dict(json_normalize(data), orient='columns')\n",
    "    df_sub = df_sub.append(df_new_sub) \n",
    "    created_utc_now_sub = df_sub.tail(1)['created_utc']\n",
    "    print(created_utc_now_sub)\n",
    "    print(df_sub.shape)"
   ]
  },
  {
   "cell_type": "code",
   "execution_count": 15,
   "metadata": {},
   "outputs": [],
   "source": [
    "df_sub.to_csv('~/Desktop/CSE_517/final_proj_data.csv')"
   ]
  },
  {
   "cell_type": "code",
   "execution_count": null,
   "metadata": {
    "collapsed": true
   },
   "outputs": [],
   "source": []
  }
 ],
 "metadata": {
  "kernelspec": {
   "display_name": "Python [conda root]",
   "language": "python",
   "name": "conda-root-py"
  },
  "language_info": {
   "codemirror_mode": {
    "name": "ipython",
    "version": 3
   },
   "file_extension": ".py",
   "mimetype": "text/x-python",
   "name": "python",
   "nbconvert_exporter": "python",
   "pygments_lexer": "ipython3",
   "version": "3.5.3"
  },
  "varInspector": {
   "cols": {
    "lenName": 16,
    "lenType": 16,
    "lenVar": 40
   },
   "kernels_config": {
    "python": {
     "delete_cmd_postfix": "",
     "delete_cmd_prefix": "del ",
     "library": "var_list.py",
     "varRefreshCmd": "print(var_dic_list())"
    },
    "r": {
     "delete_cmd_postfix": ") ",
     "delete_cmd_prefix": "rm(",
     "library": "var_list.r",
     "varRefreshCmd": "cat(var_dic_list()) "
    }
   },
   "types_to_exclude": [
    "module",
    "function",
    "builtin_function_or_method",
    "instance",
    "_Feature"
   ],
   "window_display": false
  }
 },
 "nbformat": 4,
 "nbformat_minor": 2
}
